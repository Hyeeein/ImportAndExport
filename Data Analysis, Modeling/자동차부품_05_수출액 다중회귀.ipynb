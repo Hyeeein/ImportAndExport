{
 "cells": [
  {
   "cell_type": "markdown",
   "id": "eb29cdbd",
   "metadata": {},
   "source": [
    "### 1. 모듈 불러오기"
   ]
  },
  {
   "cell_type": "code",
   "execution_count": 99,
   "id": "413593cf",
   "metadata": {},
   "outputs": [],
   "source": [
    "# 데이터 전처리 패키지\n",
    "import numpy as np\n",
    "import pandas as pd\n",
    "\n",
    "# 기계학습 모델 구축 및 평가 패키지\n",
    "import scipy as sp\n",
    "import scipy.stats as stats\n",
    "\n",
    "import statsmodels.api as sm\n",
    "from statsmodels.formula.api import ols\n",
    "\n",
    "from sklearn.model_selection import train_test_split\n",
    "from sklearn.metrics import mean_squared_error, r2_score, mean_absolute_error\n",
    "\n",
    "# 데이터 시각화 패키지\n",
    "import seaborn as sns\n",
    "import matplotlib.pyplot as plt\n",
    "import matplotlib.font_manager as fm"
   ]
  },
  {
   "cell_type": "code",
   "execution_count": 100,
   "id": "0e228e25",
   "metadata": {},
   "outputs": [],
   "source": [
    "# 그래프 내 한글 깨짐\n",
    "\n",
    "import platform\n",
    "\n",
    "from matplotlib import font_manager, rc\n",
    "plt.rcParams['axes.unicode_minus'] = False\n",
    "\n",
    "if platform.system() == 'Darwin':  # 맥OS \n",
    "    rc('font', family='AppleGothic')\n",
    "elif platform.system() == 'Windows':  # 윈도우\n",
    "    path = \"c:/Windows/Fonts/malgun.ttf\"\n",
    "    font_name = font_manager.FontProperties(fname=path).get_name()\n",
    "    rc('font', family=font_name)\n",
    "else:\n",
    "    print('Unknown system...  sorry~~~')"
   ]
  },
  {
   "cell_type": "markdown",
   "id": "60efd524",
   "metadata": {},
   "source": [
    "### 2. 데이터 불러오기\n",
    "\n",
    "- `활용 데이터` : 자동차부품 데이터셋.csv\n",
    " \n",
    "- `설명변수` : 환율, 소비자 물가지수, 기준금리(연%), 국제유가, SCFI, 고용률(%), 가동률지수(원지수)"
   ]
  },
  {
   "cell_type": "code",
   "execution_count": 101,
   "id": "76b6b9c3",
   "metadata": {},
   "outputs": [
    {
     "data": {
      "text/html": [
       "<div>\n",
       "<style scoped>\n",
       "    .dataframe tbody tr th:only-of-type {\n",
       "        vertical-align: middle;\n",
       "    }\n",
       "\n",
       "    .dataframe tbody tr th {\n",
       "        vertical-align: top;\n",
       "    }\n",
       "\n",
       "    .dataframe thead th {\n",
       "        text-align: right;\n",
       "    }\n",
       "</style>\n",
       "<table border=\"1\" class=\"dataframe\">\n",
       "  <thead>\n",
       "    <tr style=\"text-align: right;\">\n",
       "      <th></th>\n",
       "      <th>시점</th>\n",
       "      <th>수출액</th>\n",
       "      <th>수입액</th>\n",
       "      <th>환율</th>\n",
       "      <th>소비자 물가지수</th>\n",
       "      <th>기준금리(연%)</th>\n",
       "      <th>국제유가</th>\n",
       "      <th>SCFI</th>\n",
       "      <th>고용률(%)</th>\n",
       "      <th>가동률지수(원지수)</th>\n",
       "    </tr>\n",
       "  </thead>\n",
       "  <tbody>\n",
       "    <tr>\n",
       "      <th>0</th>\n",
       "      <td>2015.01</td>\n",
       "      <td>2262441</td>\n",
       "      <td>410713</td>\n",
       "      <td>1093.5</td>\n",
       "      <td>94.643</td>\n",
       "      <td>2.00</td>\n",
       "      <td>45.77</td>\n",
       "      <td>1051.18</td>\n",
       "      <td>59.0</td>\n",
       "      <td>105.8</td>\n",
       "    </tr>\n",
       "    <tr>\n",
       "      <th>1</th>\n",
       "      <td>2015.02</td>\n",
       "      <td>1963200</td>\n",
       "      <td>347320</td>\n",
       "      <td>1098.4</td>\n",
       "      <td>94.587</td>\n",
       "      <td>2.00</td>\n",
       "      <td>55.69</td>\n",
       "      <td>1071.73</td>\n",
       "      <td>59.1</td>\n",
       "      <td>90.5</td>\n",
       "    </tr>\n",
       "    <tr>\n",
       "      <th>2</th>\n",
       "      <td>2015.03</td>\n",
       "      <td>2371707</td>\n",
       "      <td>459833</td>\n",
       "      <td>1109.5</td>\n",
       "      <td>94.596</td>\n",
       "      <td>1.75</td>\n",
       "      <td>54.69</td>\n",
       "      <td>868.47</td>\n",
       "      <td>59.8</td>\n",
       "      <td>107.8</td>\n",
       "    </tr>\n",
       "    <tr>\n",
       "      <th>3</th>\n",
       "      <td>2015.04</td>\n",
       "      <td>2493058</td>\n",
       "      <td>464552</td>\n",
       "      <td>1072.4</td>\n",
       "      <td>94.625</td>\n",
       "      <td>1.75</td>\n",
       "      <td>57.72</td>\n",
       "      <td>748.39</td>\n",
       "      <td>60.6</td>\n",
       "      <td>106.7</td>\n",
       "    </tr>\n",
       "    <tr>\n",
       "      <th>4</th>\n",
       "      <td>2015.05</td>\n",
       "      <td>2168130</td>\n",
       "      <td>424571</td>\n",
       "      <td>1108.2</td>\n",
       "      <td>94.890</td>\n",
       "      <td>1.75</td>\n",
       "      <td>63.02</td>\n",
       "      <td>731.35</td>\n",
       "      <td>61.2</td>\n",
       "      <td>97.2</td>\n",
       "    </tr>\n",
       "  </tbody>\n",
       "</table>\n",
       "</div>"
      ],
      "text/plain": [
       "        시점      수출액     수입액      환율  소비자 물가지수  기준금리(연%)   국제유가     SCFI  \\\n",
       "0  2015.01  2262441  410713  1093.5    94.643      2.00  45.77  1051.18   \n",
       "1  2015.02  1963200  347320  1098.4    94.587      2.00  55.69  1071.73   \n",
       "2  2015.03  2371707  459833  1109.5    94.596      1.75  54.69   868.47   \n",
       "3  2015.04  2493058  464552  1072.4    94.625      1.75  57.72   748.39   \n",
       "4  2015.05  2168130  424571  1108.2    94.890      1.75  63.02   731.35   \n",
       "\n",
       "   고용률(%)  가동률지수(원지수)  \n",
       "0    59.0       105.8  \n",
       "1    59.1        90.5  \n",
       "2    59.8       107.8  \n",
       "3    60.6       106.7  \n",
       "4    61.2        97.2  "
      ]
     },
     "execution_count": 101,
     "metadata": {},
     "output_type": "execute_result"
    }
   ],
   "source": [
    "df = pd.read_csv('../Data Preprocessing/자동차부품 데이터셋.csv', encoding='cp949')\n",
    "df = df.iloc[:, 1:]\n",
    "df.head()"
   ]
  },
  {
   "cell_type": "code",
   "execution_count": 126,
   "id": "ee0a6cb7",
   "metadata": {},
   "outputs": [
    {
     "name": "stdout",
     "output_type": "stream",
     "text": [
      "<class 'pandas.core.frame.DataFrame'>\n",
      "RangeIndex: 84 entries, 0 to 83\n",
      "Data columns (total 10 columns):\n",
      " #   Column      Non-Null Count  Dtype  \n",
      "---  ------      --------------  -----  \n",
      " 0   시점          84 non-null     float64\n",
      " 1   수출액         84 non-null     int64  \n",
      " 2   수입액         84 non-null     int64  \n",
      " 3   환율          84 non-null     float64\n",
      " 4   소비자 물가지수    84 non-null     float64\n",
      " 5   기준금리(연%)    84 non-null     float64\n",
      " 6   국제유가        84 non-null     float64\n",
      " 7   SCFI        84 non-null     float64\n",
      " 8   고용률(%)      84 non-null     float64\n",
      " 9   가동률지수(원지수)  84 non-null     float64\n",
      "dtypes: float64(8), int64(2)\n",
      "memory usage: 6.7 KB\n"
     ]
    }
   ],
   "source": [
    "df.info()"
   ]
  },
  {
   "cell_type": "markdown",
   "id": "c8821fe1",
   "metadata": {},
   "source": [
    "`Null값 없고, 모든 데이터가 float, int형이므로 따로 인코딩 필요 없음`"
   ]
  },
  {
   "cell_type": "markdown",
   "id": "34b7001d",
   "metadata": {},
   "source": [
    "### 3. 데이터 전처리하기"
   ]
  },
  {
   "cell_type": "code",
   "execution_count": 103,
   "id": "3a326984",
   "metadata": {},
   "outputs": [],
   "source": [
    "# 종속변수, 독립변수 따로 데이터 프레임 형태로 변환\n",
    "X = pd.DataFrame(df.iloc[:, 3:10])\n",
    "y = pd.DataFrame(df.iloc[:, 1])"
   ]
  },
  {
   "cell_type": "code",
   "execution_count": 104,
   "id": "5af86acc",
   "metadata": {},
   "outputs": [
    {
     "data": {
      "text/html": [
       "<div>\n",
       "<style scoped>\n",
       "    .dataframe tbody tr th:only-of-type {\n",
       "        vertical-align: middle;\n",
       "    }\n",
       "\n",
       "    .dataframe tbody tr th {\n",
       "        vertical-align: top;\n",
       "    }\n",
       "\n",
       "    .dataframe thead th {\n",
       "        text-align: right;\n",
       "    }\n",
       "</style>\n",
       "<table border=\"1\" class=\"dataframe\">\n",
       "  <thead>\n",
       "    <tr style=\"text-align: right;\">\n",
       "      <th></th>\n",
       "      <th>환율</th>\n",
       "      <th>소비자 물가지수</th>\n",
       "      <th>기준금리(연%)</th>\n",
       "      <th>국제유가</th>\n",
       "      <th>SCFI</th>\n",
       "      <th>고용률(%)</th>\n",
       "      <th>가동률지수(원지수)</th>\n",
       "    </tr>\n",
       "  </thead>\n",
       "  <tbody>\n",
       "    <tr>\n",
       "      <th>0</th>\n",
       "      <td>1093.5</td>\n",
       "      <td>94.643</td>\n",
       "      <td>2.00</td>\n",
       "      <td>45.77</td>\n",
       "      <td>1051.18</td>\n",
       "      <td>59.0</td>\n",
       "      <td>105.8</td>\n",
       "    </tr>\n",
       "    <tr>\n",
       "      <th>1</th>\n",
       "      <td>1098.4</td>\n",
       "      <td>94.587</td>\n",
       "      <td>2.00</td>\n",
       "      <td>55.69</td>\n",
       "      <td>1071.73</td>\n",
       "      <td>59.1</td>\n",
       "      <td>90.5</td>\n",
       "    </tr>\n",
       "    <tr>\n",
       "      <th>2</th>\n",
       "      <td>1109.5</td>\n",
       "      <td>94.596</td>\n",
       "      <td>1.75</td>\n",
       "      <td>54.69</td>\n",
       "      <td>868.47</td>\n",
       "      <td>59.8</td>\n",
       "      <td>107.8</td>\n",
       "    </tr>\n",
       "    <tr>\n",
       "      <th>3</th>\n",
       "      <td>1072.4</td>\n",
       "      <td>94.625</td>\n",
       "      <td>1.75</td>\n",
       "      <td>57.72</td>\n",
       "      <td>748.39</td>\n",
       "      <td>60.6</td>\n",
       "      <td>106.7</td>\n",
       "    </tr>\n",
       "    <tr>\n",
       "      <th>4</th>\n",
       "      <td>1108.2</td>\n",
       "      <td>94.890</td>\n",
       "      <td>1.75</td>\n",
       "      <td>63.02</td>\n",
       "      <td>731.35</td>\n",
       "      <td>61.2</td>\n",
       "      <td>97.2</td>\n",
       "    </tr>\n",
       "  </tbody>\n",
       "</table>\n",
       "</div>"
      ],
      "text/plain": [
       "       환율  소비자 물가지수  기준금리(연%)   국제유가     SCFI  고용률(%)  가동률지수(원지수)\n",
       "0  1093.5    94.643      2.00  45.77  1051.18    59.0       105.8\n",
       "1  1098.4    94.587      2.00  55.69  1071.73    59.1        90.5\n",
       "2  1109.5    94.596      1.75  54.69   868.47    59.8       107.8\n",
       "3  1072.4    94.625      1.75  57.72   748.39    60.6       106.7\n",
       "4  1108.2    94.890      1.75  63.02   731.35    61.2        97.2"
      ]
     },
     "execution_count": 104,
     "metadata": {},
     "output_type": "execute_result"
    }
   ],
   "source": [
    "X.head()"
   ]
  },
  {
   "cell_type": "code",
   "execution_count": 105,
   "id": "65973aae",
   "metadata": {},
   "outputs": [
    {
     "data": {
      "text/html": [
       "<div>\n",
       "<style scoped>\n",
       "    .dataframe tbody tr th:only-of-type {\n",
       "        vertical-align: middle;\n",
       "    }\n",
       "\n",
       "    .dataframe tbody tr th {\n",
       "        vertical-align: top;\n",
       "    }\n",
       "\n",
       "    .dataframe thead th {\n",
       "        text-align: right;\n",
       "    }\n",
       "</style>\n",
       "<table border=\"1\" class=\"dataframe\">\n",
       "  <thead>\n",
       "    <tr style=\"text-align: right;\">\n",
       "      <th></th>\n",
       "      <th>수출액</th>\n",
       "    </tr>\n",
       "  </thead>\n",
       "  <tbody>\n",
       "    <tr>\n",
       "      <th>0</th>\n",
       "      <td>2262441</td>\n",
       "    </tr>\n",
       "    <tr>\n",
       "      <th>1</th>\n",
       "      <td>1963200</td>\n",
       "    </tr>\n",
       "    <tr>\n",
       "      <th>2</th>\n",
       "      <td>2371707</td>\n",
       "    </tr>\n",
       "    <tr>\n",
       "      <th>3</th>\n",
       "      <td>2493058</td>\n",
       "    </tr>\n",
       "    <tr>\n",
       "      <th>4</th>\n",
       "      <td>2168130</td>\n",
       "    </tr>\n",
       "  </tbody>\n",
       "</table>\n",
       "</div>"
      ],
      "text/plain": [
       "       수출액\n",
       "0  2262441\n",
       "1  1963200\n",
       "2  2371707\n",
       "3  2493058\n",
       "4  2168130"
      ]
     },
     "execution_count": 105,
     "metadata": {},
     "output_type": "execute_result"
    }
   ],
   "source": [
    "y.head()"
   ]
  },
  {
   "cell_type": "code",
   "execution_count": 106,
   "id": "351c5217",
   "metadata": {},
   "outputs": [],
   "source": [
    "# Train, Test set 나누기\n",
    "X_train, X_test, y_train, y_test = train_test_split(X, y, test_size=0.2, random_state=156)"
   ]
  },
  {
   "cell_type": "markdown",
   "id": "4e42af05",
   "metadata": {},
   "source": [
    "### 4. 선형회귀 모델 구축\n",
    "\n",
    "- OLS : 가장 기본적인 결정론적 선형 회귀 방법으로 잔차제곱합(RSS)를 최소화하는 가중치 구하는 방법\n",
    "- 모델 선언 : model = sm.OLS(Y데이터, X데이터)\n",
    "- 모델 학습 : model_trained = model.fit()"
   ]
  },
  {
   "cell_type": "code",
   "execution_count": 107,
   "id": "102b9694",
   "metadata": {},
   "outputs": [],
   "source": [
    "# (1) 선형회귀 모델 가정 확인하기\n",
    "\n",
    "X_train = sm.add_constant(X_train)  \n",
    "# add_constant: 베타0을 구성될 수 있도록 임의의 1로 된 벡터를 컬럼에 추가\n",
    "model = sm.OLS(y_train, X_train, axis=1) # 모델 선언\n",
    "model_trained = model.fit() # 모델 학습"
   ]
  },
  {
   "cell_type": "code",
   "execution_count": 108,
   "id": "7a3666c2",
   "metadata": {},
   "outputs": [
    {
     "data": {
      "image/png": "[encoded data removed]",
      "text/plain": [
       "<Figure size 864x864 with 1 Axes>"
      ]
     },
     "metadata": {
      "needs_background": "light"
     },
     "output_type": "display_data"
    }
   ],
   "source": [
    "# (2) 확률오차의 정규성 확인\n",
    "\n",
    "model_residuals = model_trained.resid\n",
    "\n",
    "plt.rcParams['axes.unicode_minus'] = False  # 음수 폰트 깨짐 방지\n",
    "fig, ax = plt.subplots(1, 1)\n",
    "fig.set_figheight(12)\n",
    "fig.set_figwidth(12)\n",
    "\n",
    "sm.ProbPlot(model_residuals).qqplot(line='s', color='#1f77b4', ax=ax)\n",
    "ax.title.set_text('QQ Plot')"
   ]
  },
  {
   "cell_type": "code",
   "execution_count": 109,
   "id": "46d145f4",
   "metadata": {},
   "outputs": [
    {
     "name": "stderr",
     "output_type": "stream",
     "text": [
      "C:\\Users\\phi49\\anaconda3\\lib\\site-packages\\seaborn\\_decorators.py:36: FutureWarning: Pass the following variables as keyword args: x, y. From version 0.12, the only valid positional argument will be `data`, and passing other arguments without an explicit keyword will result in an error or misinterpretation.\n",
      "  warnings.warn(\n"
     ]
    },
    {
     "data": {
      "text/plain": [
       "[Text(0.5, 0, 'Fitted values'), Text(0, 0.5, 'Residuals')]"
      ]
     },
     "execution_count": 109,
     "metadata": {},
     "output_type": "execute_result"
    },
    {
     "data": {
      "image/png": "[encoded data removed]",
      "text/plain": [
       "<Figure size 864x576 with 1 Axes>"
      ]
     },
     "metadata": {
      "needs_background": "light"
     },
     "output_type": "display_data"
    }
   ],
   "source": [
    "# (3) 확률 오차의 등분산성 확인\n",
    "\n",
    "model_fitted_y = model_trained.fittedvalues\n",
    "\n",
    "fig, ax = plt.subplots(1, 1)\n",
    "fig.set_figheight(8)\n",
    "fig.set_figwidth(12)\n",
    "\n",
    "sns.residplot(model_fitted_y, y_train, data=X_train, lowess=True,\n",
    "             scatter_kws={'alpha':0.5}, line_kws={'color':'red'}, ax=ax)\n",
    "ax.title.set_text('Residuals vs Fitted')\n",
    "ax.set(xlabel='Fitted values', ylabel='Residuals')"
   ]
  },
  {
   "cell_type": "code",
   "execution_count": 110,
   "id": "36718f97",
   "metadata": {
    "scrolled": false
   },
   "outputs": [
    {
     "data": {
      "text/html": [
       "<table class=\"simpletable\">\n",
       "<caption>OLS Regression Results</caption>\n",
       "<tr>\n",
       "  <th>Dep. Variable:</th>           <td>수출액</td>       <th>  R-squared:         </th> <td>   0.725</td>\n",
       "</tr>\n",
       "<tr>\n",
       "  <th>Model:</th>                   <td>OLS</td>       <th>  Adj. R-squared:    </th> <td>   0.692</td>\n",
       "</tr>\n",
       "<tr>\n",
       "  <th>Method:</th>             <td>Least Squares</td>  <th>  F-statistic:       </th> <td>   22.23</td>\n",
       "</tr>\n",
       "<tr>\n",
       "  <th>Date:</th>             <td>Thu, 31 Mar 2022</td> <th>  Prob (F-statistic):</th> <td>2.17e-14</td>\n",
       "</tr>\n",
       "<tr>\n",
       "  <th>Time:</th>                 <td>12:40:02</td>     <th>  Log-Likelihood:    </th> <td> -891.00</td>\n",
       "</tr>\n",
       "<tr>\n",
       "  <th>No. Observations:</th>      <td>    67</td>      <th>  AIC:               </th> <td>   1798.</td>\n",
       "</tr>\n",
       "<tr>\n",
       "  <th>Df Residuals:</th>          <td>    59</td>      <th>  BIC:               </th> <td>   1816.</td>\n",
       "</tr>\n",
       "<tr>\n",
       "  <th>Df Model:</th>              <td>     7</td>      <th>                     </th>     <td> </td>   \n",
       "</tr>\n",
       "<tr>\n",
       "  <th>Covariance Type:</th>      <td>nonrobust</td>    <th>                     </th>     <td> </td>   \n",
       "</tr>\n",
       "</table>\n",
       "<table class=\"simpletable\">\n",
       "<tr>\n",
       "       <td></td>         <th>coef</th>     <th>std err</th>      <th>t</th>      <th>P>|t|</th>  <th>[0.025</th>    <th>0.975]</th>  \n",
       "</tr>\n",
       "<tr>\n",
       "  <th>const</th>      <td> 7.082e+06</td> <td> 2.27e+06</td> <td>    3.119</td> <td> 0.003</td> <td> 2.54e+06</td> <td> 1.16e+07</td>\n",
       "</tr>\n",
       "<tr>\n",
       "  <th>환율</th>         <td> -724.6979</td> <td>  568.598</td> <td>   -1.275</td> <td> 0.207</td> <td>-1862.460</td> <td>  413.064</td>\n",
       "</tr>\n",
       "<tr>\n",
       "  <th>소비자 물가지수</th>   <td>-6.538e+04</td> <td> 1.91e+04</td> <td>   -3.420</td> <td> 0.001</td> <td>-1.04e+05</td> <td>-2.71e+04</td>\n",
       "</tr>\n",
       "<tr>\n",
       "  <th>기준금리(연%)</th>   <td> 3292.9839</td> <td> 8.59e+04</td> <td>    0.038</td> <td> 0.970</td> <td>-1.69e+05</td> <td> 1.75e+05</td>\n",
       "</tr>\n",
       "<tr>\n",
       "  <th>국제유가</th>       <td> 5604.2952</td> <td> 3178.768</td> <td>    1.763</td> <td> 0.083</td> <td> -756.405</td> <td>  1.2e+04</td>\n",
       "</tr>\n",
       "<tr>\n",
       "  <th>SCFI</th>       <td>   66.2822</td> <td>   29.924</td> <td>    2.215</td> <td> 0.031</td> <td>    6.404</td> <td>  126.160</td>\n",
       "</tr>\n",
       "<tr>\n",
       "  <th>고용률(%)</th>     <td> 4116.1505</td> <td> 2.29e+04</td> <td>    0.180</td> <td> 0.858</td> <td>-4.17e+04</td> <td>    5e+04</td>\n",
       "</tr>\n",
       "<tr>\n",
       "  <th>가동률지수(원지수)</th> <td> 1.628e+04</td> <td> 2214.139</td> <td>    7.352</td> <td> 0.000</td> <td> 1.18e+04</td> <td> 2.07e+04</td>\n",
       "</tr>\n",
       "</table>\n",
       "<table class=\"simpletable\">\n",
       "<tr>\n",
       "  <th>Omnibus:</th>       <td> 6.589</td> <th>  Durbin-Watson:     </th> <td>   2.068</td>\n",
       "</tr>\n",
       "<tr>\n",
       "  <th>Prob(Omnibus):</th> <td> 0.037</td> <th>  Jarque-Bera (JB):  </th> <td>   9.717</td>\n",
       "</tr>\n",
       "<tr>\n",
       "  <th>Skew:</th>          <td>-0.236</td> <th>  Prob(JB):          </th> <td> 0.00776</td>\n",
       "</tr>\n",
       "<tr>\n",
       "  <th>Kurtosis:</th>      <td> 4.805</td> <th>  Cond. No.          </th> <td>2.33e+05</td>\n",
       "</tr>\n",
       "</table><br/><br/>Notes:<br/>[1] Standard Errors assume that the covariance matrix of the errors is correctly specified.<br/>[2] The condition number is large, 2.33e+05. This might indicate that there are<br/>strong multicollinearity or other numerical problems."
      ],
      "text/plain": [
       "<class 'statsmodels.iolib.summary.Summary'>\n",
       "\"\"\"\n",
       "                            OLS Regression Results                            \n",
       "==============================================================================\n",
       "Dep. Variable:                    수출액   R-squared:                       0.725\n",
       "Model:                            OLS   Adj. R-squared:                  0.692\n",
       "Method:                 Least Squares   F-statistic:                     22.23\n",
       "Date:                Thu, 31 Mar 2022   Prob (F-statistic):           2.17e-14\n",
       "Time:                        12:40:02   Log-Likelihood:                -891.00\n",
       "No. Observations:                  67   AIC:                             1798.\n",
       "Df Residuals:                      59   BIC:                             1816.\n",
       "Df Model:                           7                                         \n",
       "Covariance Type:            nonrobust                                         \n",
       "==============================================================================\n",
       "                 coef    std err          t      P>|t|      [0.025      0.975]\n",
       "------------------------------------------------------------------------------\n",
       "const       7.082e+06   2.27e+06      3.119      0.003    2.54e+06    1.16e+07\n",
       "환율          -724.6979    568.598     -1.275      0.207   -1862.460     413.064\n",
       "소비자 물가지수   -6.538e+04   1.91e+04     -3.420      0.001   -1.04e+05   -2.71e+04\n",
       "기준금리(연%)    3292.9839   8.59e+04      0.038      0.970   -1.69e+05    1.75e+05\n",
       "국제유가        5604.2952   3178.768      1.763      0.083    -756.405     1.2e+04\n",
       "SCFI          66.2822     29.924      2.215      0.031       6.404     126.160\n",
       "고용률(%)      4116.1505   2.29e+04      0.180      0.858   -4.17e+04       5e+04\n",
       "가동률지수(원지수)  1.628e+04   2214.139      7.352      0.000    1.18e+04    2.07e+04\n",
       "==============================================================================\n",
       "Omnibus:                        6.589   Durbin-Watson:                   2.068\n",
       "Prob(Omnibus):                  0.037   Jarque-Bera (JB):                9.717\n",
       "Skew:                          -0.236   Prob(JB):                      0.00776\n",
       "Kurtosis:                       4.805   Cond. No.                     2.33e+05\n",
       "==============================================================================\n",
       "\n",
       "Notes:\n",
       "[1] Standard Errors assume that the covariance matrix of the errors is correctly specified.\n",
       "[2] The condition number is large, 2.33e+05. This might indicate that there are\n",
       "strong multicollinearity or other numerical problems.\n",
       "\"\"\""
      ]
     },
     "execution_count": 110,
     "metadata": {},
     "output_type": "execute_result"
    }
   ],
   "source": [
    "# (4) 통계적으로 설명 (해석)\n",
    "# - R-squared(결정계수): 모형의 성능\n",
    "# - coef(회귀계수) : X가 한 단위 증가할 때, Y의 변화량\n",
    "# - P > [t] (p-value) : 0.05(유의수준) 이하일 때 변수가 유의미\n",
    "\n",
    "model_trained.summary()"
   ]
  },
  {
   "cell_type": "code",
   "execution_count": 111,
   "id": "f31041a1",
   "metadata": {},
   "outputs": [
    {
     "data": {
      "text/html": [
       "<table class=\"simpletable\">\n",
       "<caption>OLS Regression Results</caption>\n",
       "<tr>\n",
       "  <th>Dep. Variable:</th>           <td>수출액</td>       <th>  R-squared:         </th> <td>   0.716</td>\n",
       "</tr>\n",
       "<tr>\n",
       "  <th>Model:</th>                   <td>OLS</td>       <th>  Adj. R-squared:    </th> <td>   0.698</td>\n",
       "</tr>\n",
       "<tr>\n",
       "  <th>Method:</th>             <td>Least Squares</td>  <th>  F-statistic:       </th> <td>   39.17</td>\n",
       "</tr>\n",
       "<tr>\n",
       "  <th>Date:</th>             <td>Thu, 31 Mar 2022</td> <th>  Prob (F-statistic):</th> <td>2.49e-16</td>\n",
       "</tr>\n",
       "<tr>\n",
       "  <th>Time:</th>                 <td>12:40:10</td>     <th>  Log-Likelihood:    </th> <td> -892.03</td>\n",
       "</tr>\n",
       "<tr>\n",
       "  <th>No. Observations:</th>      <td>    67</td>      <th>  AIC:               </th> <td>   1794.</td>\n",
       "</tr>\n",
       "<tr>\n",
       "  <th>Df Residuals:</th>          <td>    62</td>      <th>  BIC:               </th> <td>   1805.</td>\n",
       "</tr>\n",
       "<tr>\n",
       "  <th>Df Model:</th>              <td>     4</td>      <th>                     </th>     <td> </td>   \n",
       "</tr>\n",
       "<tr>\n",
       "  <th>Covariance Type:</th>      <td>nonrobust</td>    <th>                     </th>     <td> </td>   \n",
       "</tr>\n",
       "</table>\n",
       "<table class=\"simpletable\">\n",
       "<tr>\n",
       "       <td></td>         <th>coef</th>     <th>std err</th>      <th>t</th>      <th>P>|t|</th>  <th>[0.025</th>    <th>0.975]</th>  \n",
       "</tr>\n",
       "<tr>\n",
       "  <th>const</th>      <td>  7.27e+06</td> <td> 1.36e+06</td> <td>    5.356</td> <td> 0.000</td> <td> 4.56e+06</td> <td> 9.98e+06</td>\n",
       "</tr>\n",
       "<tr>\n",
       "  <th>소비자 물가지수</th>   <td>-7.383e+04</td> <td> 1.33e+04</td> <td>   -5.535</td> <td> 0.000</td> <td>   -1e+05</td> <td>-4.72e+04</td>\n",
       "</tr>\n",
       "<tr>\n",
       "  <th>국제유가</th>       <td> 7129.5778</td> <td> 1701.588</td> <td>    4.190</td> <td> 0.000</td> <td> 3728.151</td> <td> 1.05e+04</td>\n",
       "</tr>\n",
       "<tr>\n",
       "  <th>SCFI</th>       <td>   70.6213</td> <td>   26.636</td> <td>    2.651</td> <td> 0.010</td> <td>   17.377</td> <td>  123.865</td>\n",
       "</tr>\n",
       "<tr>\n",
       "  <th>가동률지수(원지수)</th> <td> 1.606e+04</td> <td> 2178.844</td> <td>    7.369</td> <td> 0.000</td> <td> 1.17e+04</td> <td> 2.04e+04</td>\n",
       "</tr>\n",
       "</table>\n",
       "<table class=\"simpletable\">\n",
       "<tr>\n",
       "  <th>Omnibus:</th>       <td> 7.727</td> <th>  Durbin-Watson:     </th> <td>   2.092</td>\n",
       "</tr>\n",
       "<tr>\n",
       "  <th>Prob(Omnibus):</th> <td> 0.021</td> <th>  Jarque-Bera (JB):  </th> <td>  12.781</td>\n",
       "</tr>\n",
       "<tr>\n",
       "  <th>Skew:</th>          <td>-0.271</td> <th>  Prob(JB):          </th> <td> 0.00168</td>\n",
       "</tr>\n",
       "<tr>\n",
       "  <th>Kurtosis:</th>      <td> 5.070</td> <th>  Cond. No.          </th> <td>1.22e+05</td>\n",
       "</tr>\n",
       "</table><br/><br/>Notes:<br/>[1] Standard Errors assume that the covariance matrix of the errors is correctly specified.<br/>[2] The condition number is large, 1.22e+05. This might indicate that there are<br/>strong multicollinearity or other numerical problems."
      ],
      "text/plain": [
       "<class 'statsmodels.iolib.summary.Summary'>\n",
       "\"\"\"\n",
       "                            OLS Regression Results                            \n",
       "==============================================================================\n",
       "Dep. Variable:                    수출액   R-squared:                       0.716\n",
       "Model:                            OLS   Adj. R-squared:                  0.698\n",
       "Method:                 Least Squares   F-statistic:                     39.17\n",
       "Date:                Thu, 31 Mar 2022   Prob (F-statistic):           2.49e-16\n",
       "Time:                        12:40:10   Log-Likelihood:                -892.03\n",
       "No. Observations:                  67   AIC:                             1794.\n",
       "Df Residuals:                      62   BIC:                             1805.\n",
       "Df Model:                           4                                         \n",
       "Covariance Type:            nonrobust                                         \n",
       "==============================================================================\n",
       "                 coef    std err          t      P>|t|      [0.025      0.975]\n",
       "------------------------------------------------------------------------------\n",
       "const        7.27e+06   1.36e+06      5.356      0.000    4.56e+06    9.98e+06\n",
       "소비자 물가지수   -7.383e+04   1.33e+04     -5.535      0.000      -1e+05   -4.72e+04\n",
       "국제유가        7129.5778   1701.588      4.190      0.000    3728.151    1.05e+04\n",
       "SCFI          70.6213     26.636      2.651      0.010      17.377     123.865\n",
       "가동률지수(원지수)  1.606e+04   2178.844      7.369      0.000    1.17e+04    2.04e+04\n",
       "==============================================================================\n",
       "Omnibus:                        7.727   Durbin-Watson:                   2.092\n",
       "Prob(Omnibus):                  0.021   Jarque-Bera (JB):               12.781\n",
       "Skew:                          -0.271   Prob(JB):                      0.00168\n",
       "Kurtosis:                       5.070   Cond. No.                     1.22e+05\n",
       "==============================================================================\n",
       "\n",
       "Notes:\n",
       "[1] Standard Errors assume that the covariance matrix of the errors is correctly specified.\n",
       "[2] The condition number is large, 1.22e+05. This might indicate that there are\n",
       "strong multicollinearity or other numerical problems.\n",
       "\"\"\""
      ]
     },
     "execution_count": 111,
     "metadata": {},
     "output_type": "execute_result"
    }
   ],
   "source": [
    "# 모델 선언\n",
    "model = sm.OLS(y_train, X_train.drop(['환율', '기준금리(연%)', '고용률(%)'], axis=1))\n",
    "\n",
    "# 모델 학습\n",
    "model_trained = model.fit()\n",
    "model_trained.summary()"
   ]
  },
  {
   "cell_type": "markdown",
   "id": "b774ee78",
   "metadata": {},
   "source": [
    "`최종적으로 회귀식을 정리해보면`"
   ]
  },
  {
   "cell_type": "markdown",
   "id": "e7867370",
   "metadata": {},
   "source": [
    "`수출액 = -7.383e+04 * 소비자 물가지수 + 71.29.5778 * 국제유가 + 70.6213 * SCFI + 1.606e+04 * 가동률지수(원지수) + 7.27e+06`"
   ]
  },
  {
   "cell_type": "markdown",
   "id": "b276b843",
   "metadata": {},
   "source": [
    " ### 5. 예측 : 미래의 반응변수 값 예측하기"
   ]
  },
  {
   "cell_type": "code",
   "execution_count": 112,
   "id": "e7ab6e0e",
   "metadata": {},
   "outputs": [
    {
     "data": {
      "image/png": "[encoded data removed]",
      "text/plain": [
       "<Figure size 576x576 with 1 Axes>"
      ]
     },
     "metadata": {
      "needs_background": "light"
     },
     "output_type": "display_data"
    }
   ],
   "source": [
    "y_train_pred = model_trained.fittedvalues\n",
    "\n",
    "plt.figure(figsize=(8, 8))\n",
    "plt.title('실제값 vs 모델 출력 값')\n",
    "plt.scatter(y_train, y_train_pred)\n",
    "plt.plot([1e6, 2.5e6], [1e6, 2.5e6], ls='--', c='red')\n",
    "plt.xlabel('실제값', size=16)\n",
    "plt.ylabel('모델 출력값', size=16)\n",
    "plt.xlim(1e6, 2.4e6)\n",
    "plt.ylim(1e6, 2.4e6)\n",
    "plt.show()"
   ]
  },
  {
   "cell_type": "code",
   "execution_count": 113,
   "id": "aeb7406d",
   "metadata": {},
   "outputs": [],
   "source": [
    "X_test = sm.add_constant(X_test)"
   ]
  },
  {
   "cell_type": "code",
   "execution_count": 114,
   "id": "591a9537",
   "metadata": {},
   "outputs": [
    {
     "data": {
      "text/plain": [
       "8     2.118498e+06\n",
       "54    2.077518e+06\n",
       "81    1.918348e+06\n",
       "31    1.648296e+06\n",
       "78    1.993800e+06\n",
       "dtype: float64"
      ]
     },
     "execution_count": 114,
     "metadata": {},
     "output_type": "execute_result"
    }
   ],
   "source": [
    "y_test_pred = model_trained.predict(X_test.drop(['환율', '기준금리(연%)', '고용률(%)'], axis=1))\n",
    "y_test_pred.head() # 예측 결과"
   ]
  },
  {
   "cell_type": "markdown",
   "id": "9a7294d7",
   "metadata": {},
   "source": [
    "### 6. 해당 모델의 성능 정량적 지표로 도출"
   ]
  },
  {
   "cell_type": "code",
   "execution_count": 115,
   "id": "f51933b2",
   "metadata": {},
   "outputs": [
    {
     "name": "stdout",
     "output_type": "stream",
     "text": [
      "학습용 데이터셋 결과\n",
      "MSE: 21469180275.453\n",
      "RMSE: 146523.651\n",
      "MAE: 109123.934\n",
      "R2_Score: 0.716\n"
     ]
    }
   ],
   "source": [
    "## 학습용 데이터셋\n",
    "print('학습용 데이터셋 결과')\n",
    "\n",
    "# MSE (평균 제곱 오차)\n",
    "print('MSE: {:.3f}'.format(mean_squared_error(y_train, y_train_pred)))\n",
    "\n",
    "# RMSE (제곱근 평균 제곱 오차)\n",
    "print('RMSE: {:.3f}'.format(np.sqrt(mean_squared_error(y_train, y_train_pred))))\n",
    "\n",
    "# MAE (평균 절대 오차)\n",
    "print('MAE: {:.3f}'.format(mean_absolute_error(y_train, y_train_pred)))\n",
    "\n",
    "# R2_Score (결정계수)\n",
    "print('R2_Score: {:.3f}'.format(r2_score(y_train, y_train_pred)))"
   ]
  },
  {
   "cell_type": "code",
   "execution_count": 116,
   "id": "07256234",
   "metadata": {},
   "outputs": [
    {
     "name": "stdout",
     "output_type": "stream",
     "text": [
      "테스트용 데이터셋 결과\n",
      "MSE: 25735000074.895\n",
      "RMSE: 160421.321\n",
      "MAE: 113889.055\n",
      "R2_Score: 0.818\n"
     ]
    }
   ],
   "source": [
    "## 테스트용 데이터셋\n",
    "print('테스트용 데이터셋 결과')\n",
    "\n",
    "# MSE (평균 제곱 오차)\n",
    "print('MSE: {:.3f}'.format(mean_squared_error(y_test, y_test_pred)))\n",
    "\n",
    "# RMSE (제곱근 평균 제곱 오차)\n",
    "print('RMSE: {:.3f}'.format(np.sqrt(mean_squared_error(y_test, y_test_pred))))\n",
    "\n",
    "# MAE (평균 절대 오차)\n",
    "print('MAE: {:.3f}'.format(mean_absolute_error(y_test, y_test_pred)))\n",
    "\n",
    "# R2_Score (결정계수)\n",
    "print('R2_Score: {:.3f}'.format(r2_score(y_test, y_test_pred)))"
   ]
  },
  {
   "cell_type": "markdown",
   "id": "3ff3446a",
   "metadata": {},
   "source": [
    "### 7. 교차검증 및 하이퍼 파라미터 튜닝 (GridSearchCV)"
   ]
  },
  {
   "cell_type": "markdown",
   "id": "870e0f8a",
   "metadata": {},
   "source": [
    "- 데이터 수가 작아서 추가적으로 검증"
   ]
  },
  {
   "cell_type": "code",
   "execution_count": 117,
   "id": "7bef0ce4",
   "metadata": {},
   "outputs": [],
   "source": [
    "# 회귀는 하이퍼 파라미터가 2개 (절편, 정규화를 해주는지 안해주는지)"
   ]
  },
  {
   "cell_type": "code",
   "execution_count": 118,
   "id": "255cad9b",
   "metadata": {},
   "outputs": [
    {
     "name": "stdout",
     "output_type": "stream",
     "text": [
      "최적의 파라미터 {'fit_intercept': True, 'normalize': False}\n",
      "최고 성능 0.6418751050940793\n",
      "mse: 37286605673.75474\n",
      "r2_score: 0.7482649198522047\n"
     ]
    }
   ],
   "source": [
    "from sklearn.linear_model import LinearRegression\n",
    "from sklearn.model_selection import GridSearchCV\n",
    "\n",
    "lr = LinearRegression()\n",
    "\n",
    "# print(lr.get_params().keys())\n",
    "# dict_keys(['copy_X', 'fit_intercept', 'n_jobs', 'normalize', 'positive'])\n",
    "\n",
    "param_grid = {'fit_intercept': [True, False],\n",
    "             'normalize': [False, True],\n",
    "             }\n",
    "\n",
    "grid_lr = GridSearchCV(lr, param_grid=param_grid, cv=3, refit=True)\n",
    "\n",
    "X_train, X_test, y_train, y_test = train_test_split(X, y, test_size=0.2, random_state=121)\n",
    "\n",
    "grid_lr.fit(X_train, y_train)\n",
    "y_pred = grid_lr.predict(X_test)\n",
    "\n",
    "mse = mean_squared_error(y_test, y_pred)\n",
    "r2 = r2_score(y_test, y_pred)\n",
    "\n",
    "print('최적의 파라미터', grid_lr.best_params_)\n",
    "print('최고 성능', grid_lr.best_score_)\n",
    "\n",
    "print('mse:', mse)\n",
    "print('r2_score:', r2)"
   ]
  },
  {
   "cell_type": "markdown",
   "id": "83978308",
   "metadata": {},
   "source": [
    "### 8. 실제 2022년 1~2월 데이터 회귀식에 대입해보기"
   ]
  },
  {
   "cell_type": "code",
   "execution_count": 121,
   "id": "fec58a31",
   "metadata": {},
   "outputs": [
    {
     "name": "stdout",
     "output_type": "stream",
     "text": [
      "예측 2022년 1월 수출액: 1951919\n",
      "실제 2022년 1월 수출액: 2061375\n"
     ]
    }
   ],
   "source": [
    "# 수출액 = -7.383e+04 * 소비자 물가지수 + 7129.5778 * 국제유가 + 70.6213 * SCFI + 1.606e+04 * 가동률지수(원지수) + 7.27e+06\n",
    "# 환율 2022-2월 데이터는 우리은행 외환센터 2022년 2월 평균 매매기준율 데이터사용\n",
    "# 반도체 항공운임 2022-1~2월 데이터는 최근 2년 평균치 사용\n",
    "\n",
    "test_set = pd.read_csv('./Test_자동차부품.csv')\n",
    "\n",
    "exports_2022_01 = -7.383e+04 * test_set.iloc[0, 4] + 7129.5778 * test_set.iloc[0, 6] + 70.6213 * test_set.iloc[0, 7]\\\n",
    "                  + 1.606e+04 * test_set.iloc[0, 8] + 7.27e+06\n",
    "\n",
    "print('예측 2022년 1월 수출액:', int(exports_2022_01))\n",
    "print('실제 2022년 1월 수출액:', test_set.iloc[0, 1])"
   ]
  },
  {
   "cell_type": "code",
   "execution_count": 123,
   "id": "0b245abb",
   "metadata": {},
   "outputs": [
    {
     "name": "stdout",
     "output_type": "stream",
     "text": [
      "예측 2022년 2월 수출액: 1906552\n",
      "실제 2022년 2월 수출액: 1783051\n"
     ]
    }
   ],
   "source": [
    "exports_2022_02 = -7.383e+04 * test_set.iloc[1, 4] + 7129.5778 * test_set.iloc[1, 6] + 70.6213 * test_set.iloc[1, 7]\\\n",
    "                  + 1.606e+04 * test_set.iloc[1, 8] + 7.27e+06\n",
    "\n",
    "print('예측 2022년 2월 수출액:', int(exports_2022_02))\n",
    "print('실제 2022년 2월 수출액:', test_set.iloc[1, 1])"
   ]
  },
  {
   "cell_type": "code",
   "execution_count": null,
   "id": "0fc608b9",
   "metadata": {},
   "outputs": [],
   "source": []
  }
 ],
 "metadata": {
  "kernelspec": {
   "display_name": "Python 3",
   "language": "python",
   "name": "python3"
  },
  "language_info": {
   "codemirror_mode": {
    "name": "ipython",
    "version": 3
   },
   "file_extension": ".py",
   "mimetype": "text/x-python",
   "name": "python",
   "nbconvert_exporter": "python",
   "pygments_lexer": "ipython3",
   "version": "3.8.8"
  }
 },
 "nbformat": 4,
 "nbformat_minor": 5
}
