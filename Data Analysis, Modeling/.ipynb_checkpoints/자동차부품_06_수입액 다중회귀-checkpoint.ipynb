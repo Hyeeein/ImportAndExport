{
 "cells": [
  {
   "cell_type": "markdown",
   "id": "00e0be28",
   "metadata": {},
   "source": [
    "### 1. 모듈 불러오기"
   ]
  },
  {
   "cell_type": "code",
   "execution_count": 86,
   "id": "0b9ad8ed",
   "metadata": {},
   "outputs": [],
   "source": [
    "# 데이터 전처리 패키지\n",
    "import numpy as np\n",
    "import pandas as pd\n",
    "\n",
    "# 기계학습 모델 구축 및 평가 패키지\n",
    "import scipy as sp\n",
    "import scipy.stats as stats\n",
    "\n",
    "import statsmodels.api as sm\n",
    "from statsmodels.formula.api import ols\n",
    "\n",
    "from sklearn.model_selection import train_test_split\n",
    "from sklearn.metrics import mean_squared_error, r2_score, mean_absolute_error\n",
    "\n",
    "# 데이터 시각화 패키지\n",
    "import seaborn as sns\n",
    "import matplotlib.pyplot as plt\n",
    "import matplotlib.font_manager as fm"
   ]
  },
  {
   "cell_type": "code",
   "execution_count": 87,
   "id": "4ec682dc",
   "metadata": {},
   "outputs": [],
   "source": [
    "# 그래프 내 한글 깨짐\n",
    "\n",
    "import platform\n",
    "\n",
    "from matplotlib import font_manager, rc\n",
    "plt.rcParams['axes.unicode_minus'] = False\n",
    "\n",
    "if platform.system() == 'Darwin':  # 맥OS \n",
    "    rc('font', family='AppleGothic')\n",
    "elif platform.system() == 'Windows':  # 윈도우\n",
    "    path = \"c:/Windows/Fonts/malgun.ttf\"\n",
    "    font_name = font_manager.FontProperties(fname=path).get_name()\n",
    "    rc('font', family=font_name)\n",
    "else:\n",
    "    print('Unknown system...  sorry~~~')"
   ]
  },
  {
   "cell_type": "markdown",
   "id": "5c943d3e",
   "metadata": {},
   "source": [
    "### 2. 데이터 불러오기\n",
    "\n",
    "- `활용 데이터` : 자동차부품 데이터셋.csv\n",
    " \n",
    "- `설명변수` : 환율, 소비자 물가지수, 기준금리(연%), 국제유가, SCFI, 고용률(%), 가동률지수(원지수)"
   ]
  },
  {
   "cell_type": "code",
   "execution_count": 88,
   "id": "8cecd8d9",
   "metadata": {},
   "outputs": [
    {
     "data": {
      "text/html": [
       "<div>\n",
       "<style scoped>\n",
       "    .dataframe tbody tr th:only-of-type {\n",
       "        vertical-align: middle;\n",
       "    }\n",
       "\n",
       "    .dataframe tbody tr th {\n",
       "        vertical-align: top;\n",
       "    }\n",
       "\n",
       "    .dataframe thead th {\n",
       "        text-align: right;\n",
       "    }\n",
       "</style>\n",
       "<table border=\"1\" class=\"dataframe\">\n",
       "  <thead>\n",
       "    <tr style=\"text-align: right;\">\n",
       "      <th></th>\n",
       "      <th>시점</th>\n",
       "      <th>수출액</th>\n",
       "      <th>수입액</th>\n",
       "      <th>환율</th>\n",
       "      <th>소비자 물가지수</th>\n",
       "      <th>기준금리(연%)</th>\n",
       "      <th>국제유가</th>\n",
       "      <th>SCFI</th>\n",
       "      <th>고용률(%)</th>\n",
       "      <th>가동률지수(원지수)</th>\n",
       "    </tr>\n",
       "  </thead>\n",
       "  <tbody>\n",
       "    <tr>\n",
       "      <th>0</th>\n",
       "      <td>2015.01</td>\n",
       "      <td>2262441</td>\n",
       "      <td>410713</td>\n",
       "      <td>1093.5</td>\n",
       "      <td>94.643</td>\n",
       "      <td>2.00</td>\n",
       "      <td>45.77</td>\n",
       "      <td>1051.18</td>\n",
       "      <td>59.0</td>\n",
       "      <td>105.8</td>\n",
       "    </tr>\n",
       "    <tr>\n",
       "      <th>1</th>\n",
       "      <td>2015.02</td>\n",
       "      <td>1963200</td>\n",
       "      <td>347320</td>\n",
       "      <td>1098.4</td>\n",
       "      <td>94.587</td>\n",
       "      <td>2.00</td>\n",
       "      <td>55.69</td>\n",
       "      <td>1071.73</td>\n",
       "      <td>59.1</td>\n",
       "      <td>90.5</td>\n",
       "    </tr>\n",
       "    <tr>\n",
       "      <th>2</th>\n",
       "      <td>2015.03</td>\n",
       "      <td>2371707</td>\n",
       "      <td>459833</td>\n",
       "      <td>1109.5</td>\n",
       "      <td>94.596</td>\n",
       "      <td>1.75</td>\n",
       "      <td>54.69</td>\n",
       "      <td>868.47</td>\n",
       "      <td>59.8</td>\n",
       "      <td>107.8</td>\n",
       "    </tr>\n",
       "    <tr>\n",
       "      <th>3</th>\n",
       "      <td>2015.04</td>\n",
       "      <td>2493058</td>\n",
       "      <td>464552</td>\n",
       "      <td>1072.4</td>\n",
       "      <td>94.625</td>\n",
       "      <td>1.75</td>\n",
       "      <td>57.72</td>\n",
       "      <td>748.39</td>\n",
       "      <td>60.6</td>\n",
       "      <td>106.7</td>\n",
       "    </tr>\n",
       "    <tr>\n",
       "      <th>4</th>\n",
       "      <td>2015.05</td>\n",
       "      <td>2168130</td>\n",
       "      <td>424571</td>\n",
       "      <td>1108.2</td>\n",
       "      <td>94.890</td>\n",
       "      <td>1.75</td>\n",
       "      <td>63.02</td>\n",
       "      <td>731.35</td>\n",
       "      <td>61.2</td>\n",
       "      <td>97.2</td>\n",
       "    </tr>\n",
       "  </tbody>\n",
       "</table>\n",
       "</div>"
      ],
      "text/plain": [
       "        시점      수출액     수입액      환율  소비자 물가지수  기준금리(연%)   국제유가     SCFI  \\\n",
       "0  2015.01  2262441  410713  1093.5    94.643      2.00  45.77  1051.18   \n",
       "1  2015.02  1963200  347320  1098.4    94.587      2.00  55.69  1071.73   \n",
       "2  2015.03  2371707  459833  1109.5    94.596      1.75  54.69   868.47   \n",
       "3  2015.04  2493058  464552  1072.4    94.625      1.75  57.72   748.39   \n",
       "4  2015.05  2168130  424571  1108.2    94.890      1.75  63.02   731.35   \n",
       "\n",
       "   고용률(%)  가동률지수(원지수)  \n",
       "0    59.0       105.8  \n",
       "1    59.1        90.5  \n",
       "2    59.8       107.8  \n",
       "3    60.6       106.7  \n",
       "4    61.2        97.2  "
      ]
     },
     "execution_count": 88,
     "metadata": {},
     "output_type": "execute_result"
    }
   ],
   "source": [
    "df = pd.read_csv('../Data Preprocessing/자동차부품 데이터셋.csv', encoding='cp949')\n",
    "df = df.iloc[:, 1:]\n",
    "df.head()"
   ]
  },
  {
   "cell_type": "code",
   "execution_count": 89,
   "id": "b129d3d2",
   "metadata": {},
   "outputs": [
    {
     "name": "stdout",
     "output_type": "stream",
     "text": [
      "<class 'pandas.core.frame.DataFrame'>\n",
      "RangeIndex: 84 entries, 0 to 83\n",
      "Data columns (total 10 columns):\n",
      " #   Column      Non-Null Count  Dtype  \n",
      "---  ------      --------------  -----  \n",
      " 0   시점          84 non-null     float64\n",
      " 1   수출액         84 non-null     int64  \n",
      " 2   수입액         84 non-null     int64  \n",
      " 3   환율          84 non-null     float64\n",
      " 4   소비자 물가지수    84 non-null     float64\n",
      " 5   기준금리(연%)    84 non-null     float64\n",
      " 6   국제유가        84 non-null     float64\n",
      " 7   SCFI        84 non-null     float64\n",
      " 8   고용률(%)      84 non-null     float64\n",
      " 9   가동률지수(원지수)  84 non-null     float64\n",
      "dtypes: float64(8), int64(2)\n",
      "memory usage: 6.7 KB\n"
     ]
    }
   ],
   "source": [
    "df.info()"
   ]
  },
  {
   "cell_type": "markdown",
   "id": "3a97538e",
   "metadata": {},
   "source": [
    "`Null값 없고, 모든 데이터가 float, int형이므로 따로 인코딩 필요 없음`"
   ]
  },
  {
   "cell_type": "markdown",
   "id": "1223d6ec",
   "metadata": {},
   "source": [
    "### 3. 데이터 전처리하기"
   ]
  },
  {
   "cell_type": "code",
   "execution_count": 90,
   "id": "e8d53cf5",
   "metadata": {},
   "outputs": [],
   "source": [
    "# 종속변수, 독립변수 따로 데이터 프레임 형태로 변환\n",
    "X = pd.DataFrame(df.iloc[:, 3:10])\n",
    "y = pd.DataFrame(df.iloc[:, 2])"
   ]
  },
  {
   "cell_type": "code",
   "execution_count": 91,
   "id": "a7842f70",
   "metadata": {},
   "outputs": [
    {
     "data": {
      "text/html": [
       "<div>\n",
       "<style scoped>\n",
       "    .dataframe tbody tr th:only-of-type {\n",
       "        vertical-align: middle;\n",
       "    }\n",
       "\n",
       "    .dataframe tbody tr th {\n",
       "        vertical-align: top;\n",
       "    }\n",
       "\n",
       "    .dataframe thead th {\n",
       "        text-align: right;\n",
       "    }\n",
       "</style>\n",
       "<table border=\"1\" class=\"dataframe\">\n",
       "  <thead>\n",
       "    <tr style=\"text-align: right;\">\n",
       "      <th></th>\n",
       "      <th>환율</th>\n",
       "      <th>소비자 물가지수</th>\n",
       "      <th>기준금리(연%)</th>\n",
       "      <th>국제유가</th>\n",
       "      <th>SCFI</th>\n",
       "      <th>고용률(%)</th>\n",
       "      <th>가동률지수(원지수)</th>\n",
       "    </tr>\n",
       "  </thead>\n",
       "  <tbody>\n",
       "    <tr>\n",
       "      <th>0</th>\n",
       "      <td>1093.5</td>\n",
       "      <td>94.643</td>\n",
       "      <td>2.00</td>\n",
       "      <td>45.77</td>\n",
       "      <td>1051.18</td>\n",
       "      <td>59.0</td>\n",
       "      <td>105.8</td>\n",
       "    </tr>\n",
       "    <tr>\n",
       "      <th>1</th>\n",
       "      <td>1098.4</td>\n",
       "      <td>94.587</td>\n",
       "      <td>2.00</td>\n",
       "      <td>55.69</td>\n",
       "      <td>1071.73</td>\n",
       "      <td>59.1</td>\n",
       "      <td>90.5</td>\n",
       "    </tr>\n",
       "    <tr>\n",
       "      <th>2</th>\n",
       "      <td>1109.5</td>\n",
       "      <td>94.596</td>\n",
       "      <td>1.75</td>\n",
       "      <td>54.69</td>\n",
       "      <td>868.47</td>\n",
       "      <td>59.8</td>\n",
       "      <td>107.8</td>\n",
       "    </tr>\n",
       "    <tr>\n",
       "      <th>3</th>\n",
       "      <td>1072.4</td>\n",
       "      <td>94.625</td>\n",
       "      <td>1.75</td>\n",
       "      <td>57.72</td>\n",
       "      <td>748.39</td>\n",
       "      <td>60.6</td>\n",
       "      <td>106.7</td>\n",
       "    </tr>\n",
       "    <tr>\n",
       "      <th>4</th>\n",
       "      <td>1108.2</td>\n",
       "      <td>94.890</td>\n",
       "      <td>1.75</td>\n",
       "      <td>63.02</td>\n",
       "      <td>731.35</td>\n",
       "      <td>61.2</td>\n",
       "      <td>97.2</td>\n",
       "    </tr>\n",
       "  </tbody>\n",
       "</table>\n",
       "</div>"
      ],
      "text/plain": [
       "       환율  소비자 물가지수  기준금리(연%)   국제유가     SCFI  고용률(%)  가동률지수(원지수)\n",
       "0  1093.5    94.643      2.00  45.77  1051.18    59.0       105.8\n",
       "1  1098.4    94.587      2.00  55.69  1071.73    59.1        90.5\n",
       "2  1109.5    94.596      1.75  54.69   868.47    59.8       107.8\n",
       "3  1072.4    94.625      1.75  57.72   748.39    60.6       106.7\n",
       "4  1108.2    94.890      1.75  63.02   731.35    61.2        97.2"
      ]
     },
     "execution_count": 91,
     "metadata": {},
     "output_type": "execute_result"
    }
   ],
   "source": [
    "X.head()"
   ]
  },
  {
   "cell_type": "code",
   "execution_count": 92,
   "id": "dc10fe65",
   "metadata": {},
   "outputs": [
    {
     "data": {
      "text/html": [
       "<div>\n",
       "<style scoped>\n",
       "    .dataframe tbody tr th:only-of-type {\n",
       "        vertical-align: middle;\n",
       "    }\n",
       "\n",
       "    .dataframe tbody tr th {\n",
       "        vertical-align: top;\n",
       "    }\n",
       "\n",
       "    .dataframe thead th {\n",
       "        text-align: right;\n",
       "    }\n",
       "</style>\n",
       "<table border=\"1\" class=\"dataframe\">\n",
       "  <thead>\n",
       "    <tr style=\"text-align: right;\">\n",
       "      <th></th>\n",
       "      <th>수입액</th>\n",
       "    </tr>\n",
       "  </thead>\n",
       "  <tbody>\n",
       "    <tr>\n",
       "      <th>0</th>\n",
       "      <td>410713</td>\n",
       "    </tr>\n",
       "    <tr>\n",
       "      <th>1</th>\n",
       "      <td>347320</td>\n",
       "    </tr>\n",
       "    <tr>\n",
       "      <th>2</th>\n",
       "      <td>459833</td>\n",
       "    </tr>\n",
       "    <tr>\n",
       "      <th>3</th>\n",
       "      <td>464552</td>\n",
       "    </tr>\n",
       "    <tr>\n",
       "      <th>4</th>\n",
       "      <td>424571</td>\n",
       "    </tr>\n",
       "  </tbody>\n",
       "</table>\n",
       "</div>"
      ],
      "text/plain": [
       "      수입액\n",
       "0  410713\n",
       "1  347320\n",
       "2  459833\n",
       "3  464552\n",
       "4  424571"
      ]
     },
     "execution_count": 92,
     "metadata": {},
     "output_type": "execute_result"
    }
   ],
   "source": [
    "y.head()"
   ]
  },
  {
   "cell_type": "code",
   "execution_count": 93,
   "id": "03ab1513",
   "metadata": {},
   "outputs": [],
   "source": [
    "# Train, Test set 나누기\n",
    "X_train, X_test, y_train, y_test = train_test_split(X, y, test_size=0.2, random_state=156)"
   ]
  },
  {
   "cell_type": "markdown",
   "id": "2a3797b5",
   "metadata": {},
   "source": [
    "### 4. 선형회귀 모델 구축\n",
    "\n",
    "- OLS : 가장 기본적인 결정론적 선형 회귀 방법으로 잔차제곱합(RSS)를 최소화하는 가중치 구하는 방법\n",
    "- 모델 선언 : model = sm.OLS(Y데이터, X데이터)\n",
    "- 모델 학습 : model_trained = model.fit()"
   ]
  },
  {
   "cell_type": "code",
   "execution_count": 94,
   "id": "a9a74f79",
   "metadata": {},
   "outputs": [],
   "source": [
    "# (1) 선형회귀 모델 가정 확인하기\n",
    "\n",
    "X_train = sm.add_constant(X_train)  \n",
    "# add_constant: 베타0을 구성될 수 있도록 임의의 1로 된 벡터를 컬럼에 추가\n",
    "model = sm.OLS(y_train, X_train, axis=1) # 모델 선언\n",
    "model_trained = model.fit() # 모델 학습"
   ]
  },
  {
   "cell_type": "code",
   "execution_count": 95,
   "id": "46fd87f0",
   "metadata": {},
   "outputs": [
    {
     "data": {
      "image/png": "[encoded data removed]",
      "text/plain": [
       "<Figure size 864x864 with 1 Axes>"
      ]
     },
     "metadata": {
      "needs_background": "light"
     },
     "output_type": "display_data"
    }
   ],
   "source": [
    "# (2) 확률오차의 정규성 확인\n",
    "\n",
    "model_residuals = model_trained.resid\n",
    "\n",
    "plt.rcParams['axes.unicode_minus'] = False  # 음수 폰트 깨짐 방지\n",
    "fig, ax = plt.subplots(1, 1)\n",
    "fig.set_figheight(12)\n",
    "fig.set_figwidth(12)\n",
    "\n",
    "sm.ProbPlot(model_residuals).qqplot(line='s', color='#1f77b4', ax=ax)\n",
    "ax.title.set_text('QQ Plot')"
   ]
  },
  {
   "cell_type": "code",
   "execution_count": 96,
   "id": "96b31e41",
   "metadata": {},
   "outputs": [
    {
     "name": "stderr",
     "output_type": "stream",
     "text": [
      "C:\\Users\\phi49\\anaconda3\\lib\\site-packages\\seaborn\\_decorators.py:36: FutureWarning: Pass the following variables as keyword args: x, y. From version 0.12, the only valid positional argument will be `data`, and passing other arguments without an explicit keyword will result in an error or misinterpretation.\n",
      "  warnings.warn(\n"
     ]
    },
    {
     "data": {
      "text/plain": [
       "[Text(0.5, 0, 'Fitted values'), Text(0, 0.5, 'Residuals')]"
      ]
     },
     "execution_count": 96,
     "metadata": {},
     "output_type": "execute_result"
    },
    {
     "data": {
      "image/png": "[encoded data removed]",
      "text/plain": [
       "<Figure size 864x576 with 1 Axes>"
      ]
     },
     "metadata": {
      "needs_background": "light"
     },
     "output_type": "display_data"
    }
   ],
   "source": [
    "# (3) 확률 오차의 등분산성 확인\n",
    "\n",
    "model_fitted_y = model_trained.fittedvalues\n",
    "\n",
    "fig, ax = plt.subplots(1, 1)\n",
    "fig.set_figheight(8)\n",
    "fig.set_figwidth(12)\n",
    "\n",
    "sns.residplot(model_fitted_y, y_train, data=X_train, lowess=True,\n",
    "             scatter_kws={'alpha':0.5}, line_kws={'color':'red'}, ax=ax)\n",
    "ax.title.set_text('Residuals vs Fitted')\n",
    "ax.set(xlabel='Fitted values', ylabel='Residuals')"
   ]
  },
  {
   "cell_type": "code",
   "execution_count": 98,
   "id": "bf085d8c",
   "metadata": {
    "scrolled": false
   },
   "outputs": [
    {
     "data": {
      "text/html": [
       "<table class=\"simpletable\">\n",
       "<caption>OLS Regression Results</caption>\n",
       "<tr>\n",
       "  <th>Dep. Variable:</th>           <td>수입액</td>       <th>  R-squared:         </th> <td>   0.691</td>\n",
       "</tr>\n",
       "<tr>\n",
       "  <th>Model:</th>                   <td>OLS</td>       <th>  Adj. R-squared:    </th> <td>   0.654</td>\n",
       "</tr>\n",
       "<tr>\n",
       "  <th>Method:</th>             <td>Least Squares</td>  <th>  F-statistic:       </th> <td>   18.81</td>\n",
       "</tr>\n",
       "<tr>\n",
       "  <th>Date:</th>             <td>Thu, 31 Mar 2022</td> <th>  Prob (F-statistic):</th> <td>6.31e-13</td>\n",
       "</tr>\n",
       "<tr>\n",
       "  <th>Time:</th>                 <td>12:41:48</td>     <th>  Log-Likelihood:    </th> <td> -777.51</td>\n",
       "</tr>\n",
       "<tr>\n",
       "  <th>No. Observations:</th>      <td>    67</td>      <th>  AIC:               </th> <td>   1571.</td>\n",
       "</tr>\n",
       "<tr>\n",
       "  <th>Df Residuals:</th>          <td>    59</td>      <th>  BIC:               </th> <td>   1589.</td>\n",
       "</tr>\n",
       "<tr>\n",
       "  <th>Df Model:</th>              <td>     7</td>      <th>                     </th>     <td> </td>   \n",
       "</tr>\n",
       "<tr>\n",
       "  <th>Covariance Type:</th>      <td>nonrobust</td>    <th>                     </th>     <td> </td>   \n",
       "</tr>\n",
       "</table>\n",
       "<table class=\"simpletable\">\n",
       "<tr>\n",
       "       <td></td>         <th>coef</th>     <th>std err</th>      <th>t</th>      <th>P>|t|</th>  <th>[0.025</th>    <th>0.975]</th>  \n",
       "</tr>\n",
       "<tr>\n",
       "  <th>const</th>      <td>-2.013e+05</td> <td> 4.17e+05</td> <td>   -0.482</td> <td> 0.631</td> <td>-1.04e+06</td> <td> 6.34e+05</td>\n",
       "</tr>\n",
       "<tr>\n",
       "  <th>환율</th>         <td> -257.0979</td> <td>  104.516</td> <td>   -2.460</td> <td> 0.017</td> <td> -466.234</td> <td>  -47.962</td>\n",
       "</tr>\n",
       "<tr>\n",
       "  <th>소비자 물가지수</th>   <td> 4066.9419</td> <td> 3513.570</td> <td>    1.157</td> <td> 0.252</td> <td>-2963.695</td> <td> 1.11e+04</td>\n",
       "</tr>\n",
       "<tr>\n",
       "  <th>기준금리(연%)</th>   <td> -6.57e+04</td> <td> 1.58e+04</td> <td>   -4.161</td> <td> 0.000</td> <td>-9.73e+04</td> <td>-3.41e+04</td>\n",
       "</tr>\n",
       "<tr>\n",
       "  <th>국제유가</th>       <td>   84.6599</td> <td>  584.301</td> <td>    0.145</td> <td> 0.885</td> <td>-1084.524</td> <td> 1253.844</td>\n",
       "</tr>\n",
       "<tr>\n",
       "  <th>SCFI</th>       <td>    0.5758</td> <td>    5.500</td> <td>    0.105</td> <td> 0.917</td> <td>  -10.431</td> <td>   11.582</td>\n",
       "</tr>\n",
       "<tr>\n",
       "  <th>고용률(%)</th>     <td> 6138.1841</td> <td> 4212.830</td> <td>    1.457</td> <td> 0.150</td> <td>-2291.670</td> <td> 1.46e+04</td>\n",
       "</tr>\n",
       "<tr>\n",
       "  <th>가동률지수(원지수)</th> <td> 2897.3764</td> <td>  406.989</td> <td>    7.119</td> <td> 0.000</td> <td> 2082.993</td> <td> 3711.760</td>\n",
       "</tr>\n",
       "</table>\n",
       "<table class=\"simpletable\">\n",
       "<tr>\n",
       "  <th>Omnibus:</th>       <td> 2.125</td> <th>  Durbin-Watson:     </th> <td>   2.160</td>\n",
       "</tr>\n",
       "<tr>\n",
       "  <th>Prob(Omnibus):</th> <td> 0.346</td> <th>  Jarque-Bera (JB):  </th> <td>   1.496</td>\n",
       "</tr>\n",
       "<tr>\n",
       "  <th>Skew:</th>          <td> 0.135</td> <th>  Prob(JB):          </th> <td>   0.473</td>\n",
       "</tr>\n",
       "<tr>\n",
       "  <th>Kurtosis:</th>      <td> 2.319</td> <th>  Cond. No.          </th> <td>2.33e+05</td>\n",
       "</tr>\n",
       "</table><br/><br/>Notes:<br/>[1] Standard Errors assume that the covariance matrix of the errors is correctly specified.<br/>[2] The condition number is large, 2.33e+05. This might indicate that there are<br/>strong multicollinearity or other numerical problems."
      ],
      "text/plain": [
       "<class 'statsmodels.iolib.summary.Summary'>\n",
       "\"\"\"\n",
       "                            OLS Regression Results                            \n",
       "==============================================================================\n",
       "Dep. Variable:                    수입액   R-squared:                       0.691\n",
       "Model:                            OLS   Adj. R-squared:                  0.654\n",
       "Method:                 Least Squares   F-statistic:                     18.81\n",
       "Date:                Thu, 31 Mar 2022   Prob (F-statistic):           6.31e-13\n",
       "Time:                        12:41:48   Log-Likelihood:                -777.51\n",
       "No. Observations:                  67   AIC:                             1571.\n",
       "Df Residuals:                      59   BIC:                             1589.\n",
       "Df Model:                           7                                         \n",
       "Covariance Type:            nonrobust                                         \n",
       "==============================================================================\n",
       "                 coef    std err          t      P>|t|      [0.025      0.975]\n",
       "------------------------------------------------------------------------------\n",
       "const      -2.013e+05   4.17e+05     -0.482      0.631   -1.04e+06    6.34e+05\n",
       "환율          -257.0979    104.516     -2.460      0.017    -466.234     -47.962\n",
       "소비자 물가지수    4066.9419   3513.570      1.157      0.252   -2963.695    1.11e+04\n",
       "기준금리(연%)    -6.57e+04   1.58e+04     -4.161      0.000   -9.73e+04   -3.41e+04\n",
       "국제유가          84.6599    584.301      0.145      0.885   -1084.524    1253.844\n",
       "SCFI           0.5758      5.500      0.105      0.917     -10.431      11.582\n",
       "고용률(%)      6138.1841   4212.830      1.457      0.150   -2291.670    1.46e+04\n",
       "가동률지수(원지수)  2897.3764    406.989      7.119      0.000    2082.993    3711.760\n",
       "==============================================================================\n",
       "Omnibus:                        2.125   Durbin-Watson:                   2.160\n",
       "Prob(Omnibus):                  0.346   Jarque-Bera (JB):                1.496\n",
       "Skew:                           0.135   Prob(JB):                        0.473\n",
       "Kurtosis:                       2.319   Cond. No.                     2.33e+05\n",
       "==============================================================================\n",
       "\n",
       "Notes:\n",
       "[1] Standard Errors assume that the covariance matrix of the errors is correctly specified.\n",
       "[2] The condition number is large, 2.33e+05. This might indicate that there are\n",
       "strong multicollinearity or other numerical problems.\n",
       "\"\"\""
      ]
     },
     "execution_count": 98,
     "metadata": {},
     "output_type": "execute_result"
    }
   ],
   "source": [
    "# (4) 통계적으로 설명 (해석)\n",
    "# - R-squared(결정계수): 모형의 성능\n",
    "# - coef(회귀계수) : X가 한 단위 증가할 때, Y의 변화량\n",
    "# - P > [t] (p-value) : 0.05(유의수준) 이하일 때 변수가 유의미\n",
    "\n",
    "model_trained.summary()"
   ]
  },
  {
   "cell_type": "code",
   "execution_count": 99,
   "id": "37776d5d",
   "metadata": {},
   "outputs": [
    {
     "data": {
      "text/html": [
       "<table class=\"simpletable\">\n",
       "<caption>OLS Regression Results</caption>\n",
       "<tr>\n",
       "  <th>Dep. Variable:</th>           <td>수입액</td>       <th>  R-squared:         </th> <td>   0.675</td>\n",
       "</tr>\n",
       "<tr>\n",
       "  <th>Model:</th>                   <td>OLS</td>       <th>  Adj. R-squared:    </th> <td>   0.654</td>\n",
       "</tr>\n",
       "<tr>\n",
       "  <th>Method:</th>             <td>Least Squares</td>  <th>  F-statistic:       </th> <td>   32.25</td>\n",
       "</tr>\n",
       "<tr>\n",
       "  <th>Date:</th>             <td>Thu, 31 Mar 2022</td> <th>  Prob (F-statistic):</th> <td>1.56e-14</td>\n",
       "</tr>\n",
       "<tr>\n",
       "  <th>Time:</th>                 <td>12:42:01</td>     <th>  Log-Likelihood:    </th> <td> -779.12</td>\n",
       "</tr>\n",
       "<tr>\n",
       "  <th>No. Observations:</th>      <td>    67</td>      <th>  AIC:               </th> <td>   1568.</td>\n",
       "</tr>\n",
       "<tr>\n",
       "  <th>Df Residuals:</th>          <td>    62</td>      <th>  BIC:               </th> <td>   1579.</td>\n",
       "</tr>\n",
       "<tr>\n",
       "  <th>Df Model:</th>              <td>     4</td>      <th>                     </th>     <td> </td>   \n",
       "</tr>\n",
       "<tr>\n",
       "  <th>Covariance Type:</th>      <td>nonrobust</td>    <th>                     </th>     <td> </td>   \n",
       "</tr>\n",
       "</table>\n",
       "<table class=\"simpletable\">\n",
       "<tr>\n",
       "       <td></td>         <th>coef</th>     <th>std err</th>      <th>t</th>      <th>P>|t|</th>  <th>[0.025</th>    <th>0.975]</th>  \n",
       "</tr>\n",
       "<tr>\n",
       "  <th>const</th>      <td> 5.585e+04</td> <td> 2.16e+05</td> <td>    0.259</td> <td> 0.796</td> <td>-3.75e+05</td> <td> 4.87e+05</td>\n",
       "</tr>\n",
       "<tr>\n",
       "  <th>환율</th>         <td> -256.5119</td> <td>   82.376</td> <td>   -3.114</td> <td> 0.003</td> <td> -421.180</td> <td>  -91.844</td>\n",
       "</tr>\n",
       "<tr>\n",
       "  <th>소비자 물가지수</th>   <td> 5143.3360</td> <td> 1819.768</td> <td>    2.826</td> <td> 0.006</td> <td> 1505.671</td> <td> 8781.001</td>\n",
       "</tr>\n",
       "<tr>\n",
       "  <th>기준금리(연%)</th>   <td>-6.193e+04</td> <td>    1e+04</td> <td>   -6.183</td> <td> 0.000</td> <td>-8.19e+04</td> <td>-4.19e+04</td>\n",
       "</tr>\n",
       "<tr>\n",
       "  <th>가동률지수(원지수)</th> <td> 2985.0324</td> <td>  385.113</td> <td>    7.751</td> <td> 0.000</td> <td> 2215.203</td> <td> 3754.861</td>\n",
       "</tr>\n",
       "</table>\n",
       "<table class=\"simpletable\">\n",
       "<tr>\n",
       "  <th>Omnibus:</th>       <td> 1.535</td> <th>  Durbin-Watson:     </th> <td>   2.089</td>\n",
       "</tr>\n",
       "<tr>\n",
       "  <th>Prob(Omnibus):</th> <td> 0.464</td> <th>  Jarque-Bera (JB):  </th> <td>   1.184</td>\n",
       "</tr>\n",
       "<tr>\n",
       "  <th>Skew:</th>          <td> 0.075</td> <th>  Prob(JB):          </th> <td>   0.553</td>\n",
       "</tr>\n",
       "<tr>\n",
       "  <th>Kurtosis:</th>      <td> 2.366</td> <th>  Cond. No.          </th> <td>7.20e+04</td>\n",
       "</tr>\n",
       "</table><br/><br/>Notes:<br/>[1] Standard Errors assume that the covariance matrix of the errors is correctly specified.<br/>[2] The condition number is large, 7.2e+04. This might indicate that there are<br/>strong multicollinearity or other numerical problems."
      ],
      "text/plain": [
       "<class 'statsmodels.iolib.summary.Summary'>\n",
       "\"\"\"\n",
       "                            OLS Regression Results                            \n",
       "==============================================================================\n",
       "Dep. Variable:                    수입액   R-squared:                       0.675\n",
       "Model:                            OLS   Adj. R-squared:                  0.654\n",
       "Method:                 Least Squares   F-statistic:                     32.25\n",
       "Date:                Thu, 31 Mar 2022   Prob (F-statistic):           1.56e-14\n",
       "Time:                        12:42:01   Log-Likelihood:                -779.12\n",
       "No. Observations:                  67   AIC:                             1568.\n",
       "Df Residuals:                      62   BIC:                             1579.\n",
       "Df Model:                           4                                         \n",
       "Covariance Type:            nonrobust                                         \n",
       "==============================================================================\n",
       "                 coef    std err          t      P>|t|      [0.025      0.975]\n",
       "------------------------------------------------------------------------------\n",
       "const       5.585e+04   2.16e+05      0.259      0.796   -3.75e+05    4.87e+05\n",
       "환율          -256.5119     82.376     -3.114      0.003    -421.180     -91.844\n",
       "소비자 물가지수    5143.3360   1819.768      2.826      0.006    1505.671    8781.001\n",
       "기준금리(연%)   -6.193e+04      1e+04     -6.183      0.000   -8.19e+04   -4.19e+04\n",
       "가동률지수(원지수)  2985.0324    385.113      7.751      0.000    2215.203    3754.861\n",
       "==============================================================================\n",
       "Omnibus:                        1.535   Durbin-Watson:                   2.089\n",
       "Prob(Omnibus):                  0.464   Jarque-Bera (JB):                1.184\n",
       "Skew:                           0.075   Prob(JB):                        0.553\n",
       "Kurtosis:                       2.366   Cond. No.                     7.20e+04\n",
       "==============================================================================\n",
       "\n",
       "Notes:\n",
       "[1] Standard Errors assume that the covariance matrix of the errors is correctly specified.\n",
       "[2] The condition number is large, 7.2e+04. This might indicate that there are\n",
       "strong multicollinearity or other numerical problems.\n",
       "\"\"\""
      ]
     },
     "execution_count": 99,
     "metadata": {},
     "output_type": "execute_result"
    }
   ],
   "source": [
    "# 모델 선언\n",
    "model = sm.OLS(y_train, X_train.drop(['SCFI', '국제유가', '고용률(%)'], axis=1))\n",
    "\n",
    "# 모델 학습\n",
    "model_trained = model.fit()\n",
    "model_trained.summary()"
   ]
  },
  {
   "cell_type": "markdown",
   "id": "d46afae8",
   "metadata": {},
   "source": [
    "`최종적으로 회귀식을 정리해보면`"
   ]
  },
  {
   "cell_type": "markdown",
   "id": "4a765b41",
   "metadata": {},
   "source": [
    "`'수입액' =  -256.5119 * 환율 + 5143.3360 * 소비자 물가지수 - 6.193e+04 * 기준금리(연%) + 2985.0324 * 가동률지수(원지수)`"
   ]
  },
  {
   "cell_type": "markdown",
   "id": "d91fc428",
   "metadata": {},
   "source": [
    " ### 5. 예측 : 미래의 반응변수 값 예측하기"
   ]
  },
  {
   "cell_type": "code",
   "execution_count": 100,
   "id": "7ab4b65a",
   "metadata": {},
   "outputs": [
    {
     "data": {
      "text/plain": [
       "수입액    347320\n",
       "dtype: int64"
      ]
     },
     "execution_count": 100,
     "metadata": {},
     "output_type": "execute_result"
    }
   ],
   "source": [
    "y_train.min()"
   ]
  },
  {
   "cell_type": "code",
   "execution_count": 101,
   "id": "4cd36425",
   "metadata": {},
   "outputs": [
    {
     "data": {
      "image/png": "[encoded data removed]",
      "text/plain": [
       "<Figure size 576x576 with 1 Axes>"
      ]
     },
     "metadata": {
      "needs_background": "light"
     },
     "output_type": "display_data"
    }
   ],
   "source": [
    "y_train_pred = model_trained.fittedvalues\n",
    "\n",
    "plt.figure(figsize=(8, 8))\n",
    "plt.title('실제값 vs 모델 출력 값')\n",
    "plt.scatter(y_train, y_train_pred)\n",
    "plt.plot([300000, 620000], [300000, 620000], ls='--', c='red')\n",
    "plt.xlabel('실제값', size=16)\n",
    "plt.ylabel('모델 출력값', size=16)\n",
    "plt.xlim(300000, 620000)\n",
    "plt.ylim(300000, 620000)\n",
    "plt.show()"
   ]
  },
  {
   "cell_type": "code",
   "execution_count": 102,
   "id": "f95e3f3d",
   "metadata": {},
   "outputs": [],
   "source": [
    "X_test = sm.add_constant(X_test)"
   ]
  },
  {
   "cell_type": "code",
   "execution_count": 103,
   "id": "e12a68b2",
   "metadata": {},
   "outputs": [
    {
     "data": {
      "text/plain": [
       "8     424072.516554\n",
       "54    471421.136145\n",
       "81    496431.932394\n",
       "31    416476.618692\n",
       "78    528912.114866\n",
       "dtype: float64"
      ]
     },
     "execution_count": 103,
     "metadata": {},
     "output_type": "execute_result"
    }
   ],
   "source": [
    "y_test_pred = model_trained.predict(X_test.drop(['SCFI', '국제유가', '고용률(%)'], axis=1))\n",
    "y_test_pred.head() # 예측 결과"
   ]
  },
  {
   "cell_type": "markdown",
   "id": "4b54ccf8",
   "metadata": {},
   "source": [
    "### 6. 해당 모델의 성능 정량적 지표로 도출"
   ]
  },
  {
   "cell_type": "code",
   "execution_count": 104,
   "id": "34f7fe75",
   "metadata": {},
   "outputs": [
    {
     "name": "stdout",
     "output_type": "stream",
     "text": [
      "학습용 데이터셋 결과\n",
      "MSE: 737965711.012\n",
      "RMSE: 27165.524\n",
      "MAE: 21936.068\n",
      "R2_Score: 0.675\n"
     ]
    }
   ],
   "source": [
    "## 학습용 데이터셋\n",
    "print('학습용 데이터셋 결과')\n",
    "\n",
    "# MSE (평균 제곱 오차)\n",
    "print('MSE: {:.3f}'.format(mean_squared_error(y_train, y_train_pred)))\n",
    "\n",
    "# RMSE (제곱근 평균 제곱 오차)\n",
    "print('RMSE: {:.3f}'.format(np.sqrt(mean_squared_error(y_train, y_train_pred))))\n",
    "\n",
    "# MAE (평균 절대 오차)\n",
    "print('MAE: {:.3f}'.format(mean_absolute_error(y_train, y_train_pred)))\n",
    "\n",
    "# R2_Score (결정계수)\n",
    "print('R2_Score: {:.3f}'.format(r2_score(y_train, y_train_pred)))"
   ]
  },
  {
   "cell_type": "code",
   "execution_count": 105,
   "id": "5ff1cdc1",
   "metadata": {},
   "outputs": [
    {
     "name": "stdout",
     "output_type": "stream",
     "text": [
      "테스트용 데이터셋 결과\n",
      "MSE: 487779727.809\n",
      "RMSE: 22085.736\n",
      "MAE: 17309.141\n",
      "R2_Score: 0.741\n"
     ]
    }
   ],
   "source": [
    "## 테스트용 데이터셋\n",
    "print('테스트용 데이터셋 결과')\n",
    "\n",
    "# MSE (평균 제곱 오차)\n",
    "print('MSE: {:.3f}'.format(mean_squared_error(y_test, y_test_pred)))\n",
    "\n",
    "# RMSE (제곱근 평균 제곱 오차)\n",
    "print('RMSE: {:.3f}'.format(np.sqrt(mean_squared_error(y_test, y_test_pred))))\n",
    "\n",
    "# MAE (평균 절대 오차)\n",
    "print('MAE: {:.3f}'.format(mean_absolute_error(y_test, y_test_pred)))\n",
    "\n",
    "# R2_Score (결정계수)\n",
    "print('R2_Score: {:.3f}'.format(r2_score(y_test, y_test_pred)))"
   ]
  },
  {
   "cell_type": "markdown",
   "id": "ca4c105d",
   "metadata": {},
   "source": [
    "### 7. 교차검증 및 하이퍼 파라미터 튜닝 (GridSearchCV)"
   ]
  },
  {
   "cell_type": "code",
   "execution_count": 106,
   "id": "5572fca5",
   "metadata": {},
   "outputs": [
    {
     "name": "stdout",
     "output_type": "stream",
     "text": [
      "최적의 파라미터 {'fit_intercept': False, 'normalize': False}\n",
      "최고 성능 0.583921519239326\n",
      "mse: 990140571.3054738\n",
      "r2_score: 0.48792677312606536\n"
     ]
    }
   ],
   "source": [
    "from sklearn.linear_model import LinearRegression\n",
    "from sklearn.model_selection import GridSearchCV\n",
    "\n",
    "lr = LinearRegression()\n",
    "\n",
    "# print(lr.get_params().keys())\n",
    "# dict_keys(['copy_X', 'fit_intercept', 'n_jobs', 'normalize', 'positive'])\n",
    "\n",
    "param_grid = {'fit_intercept': [True, False],\n",
    "             'normalize': [False, True],\n",
    "             }\n",
    "\n",
    "grid_lr = GridSearchCV(lr, param_grid=param_grid, cv=3, refit=True)\n",
    "\n",
    "X_train, X_test, y_train, y_test = train_test_split(X, y, test_size=0.2, random_state=121)\n",
    "\n",
    "grid_lr.fit(X_train, y_train)\n",
    "y_pred = grid_lr.predict(X_test)\n",
    "\n",
    "mse = mean_squared_error(y_test, y_pred)\n",
    "r2 = r2_score(y_test, y_pred)\n",
    "\n",
    "print('최적의 파라미터', grid_lr.best_params_)\n",
    "print('최고 성능', grid_lr.best_score_)\n",
    "\n",
    "print('mse:', mse)\n",
    "print('r2_score:', r2)"
   ]
  },
  {
   "cell_type": "markdown",
   "id": "fb24c233",
   "metadata": {},
   "source": [
    "### 8. 실제 2022년 1~2월 데이터 회귀식에 대입해보기"
   ]
  },
  {
   "cell_type": "code",
   "execution_count": 107,
   "id": "63cb5e2c",
   "metadata": {},
   "outputs": [
    {
     "name": "stdout",
     "output_type": "stream",
     "text": [
      "예측 2022년 1월 수입액: 422859\n",
      "실제 2022년 1월 수입액: 488239\n"
     ]
    }
   ],
   "source": [
    "# 수입액 = -256.5119 * 환율 + 5143.3360 * 소비자 물가지수 - 6.193e+04 * 기준금리(연%) + 2985.0324 * 가동률지수(원지수)\n",
    "# 환율 2022-2월 데이터는 우리은행 외환센터 2022년 2월 평균 매매기준율 데이터사용\n",
    "# 반도체 항공운임 2022-1~2월 데이터는 최근 2년 평균치 사용\n",
    "\n",
    "test_set = pd.read_csv('./Test_자동차부품.csv')\n",
    "\n",
    "income_2022_01 = -256.5119 * test_set.iloc[0, 3] + 5143.3360 * test_set.iloc[0, 4] - 6.193e+04 * test_set.iloc[0, 5]\\\n",
    "                + 2985.0324 * test_set.iloc[0, 8]\n",
    "\n",
    "print('예측 2022년 1월 수입액:', int(income_2022_01))\n",
    "print('실제 2022년 1월 수입액:', test_set.iloc[0, 2])"
   ]
  },
  {
   "cell_type": "code",
   "execution_count": 108,
   "id": "272ab4f8",
   "metadata": {},
   "outputs": [
    {
     "name": "stdout",
     "output_type": "stream",
     "text": [
      "예측 2022년 2월 수입액: 418113\n",
      "실제 2022년 2월 수입액: 484919\n"
     ]
    }
   ],
   "source": [
    "income_2022_02 = -256.5119 * test_set.iloc[1, 3] + 5143.3360 * test_set.iloc[1, 4] - 6.193e+04 * test_set.iloc[1, 5]\\\n",
    "                + 2985.0324 * test_set.iloc[1, 8]\n",
    "\n",
    "print('예측 2022년 2월 수입액:', int(income_2022_02))\n",
    "print('실제 2022년 2월 수입액:', test_set.iloc[1, 2])"
   ]
  },
  {
   "cell_type": "code",
   "execution_count": null,
   "id": "7662ac2c",
   "metadata": {},
   "outputs": [],
   "source": []
  }
 ],
 "metadata": {
  "kernelspec": {
   "display_name": "Python 3",
   "language": "python",
   "name": "python3"
  },
  "language_info": {
   "codemirror_mode": {
    "name": "ipython",
    "version": 3
   },
   "file_extension": ".py",
   "mimetype": "text/x-python",
   "name": "python",
   "nbconvert_exporter": "python",
   "pygments_lexer": "ipython3",
   "version": "3.8.8"
  }
 },
 "nbformat": 4,
 "nbformat_minor": 5
}
