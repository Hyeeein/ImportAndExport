{
 "cells": [
  {
   "cell_type": "markdown",
   "id": "0fae87a4",
   "metadata": {},
   "source": [
    "# 1. 모듈 임포트"
   ]
  },
  {
   "cell_type": "code",
   "execution_count": 1,
   "id": "dfe0bf83",
   "metadata": {},
   "outputs": [],
   "source": [
    "# 데이터 전처리 패키지\n",
    "import numpy as np\n",
    "import pandas as pd\n",
    "\n",
    "# 기계학습 모델 구축 및 평가 패키지\n",
    "import scipy as sp\n",
    "import scipy.stats as stats\n",
    "\n",
    "import statsmodels.api as sm\n",
    "from statsmodels.formula.api import ols\n",
    "\n",
    "from sklearn.model_selection import train_test_split\n",
    "from sklearn.metrics import mean_squared_error, r2_score, mean_absolute_error\n",
    "\n",
    "# 데이터 시각화 패키지\n",
    "import seaborn as sns\n",
    "import matplotlib.pyplot as plt\n",
    "import matplotlib.font_manager as fm"
   ]
  },
  {
   "cell_type": "code",
   "execution_count": 2,
   "id": "8236b50c",
   "metadata": {},
   "outputs": [],
   "source": [
    "# 한글 깨짐\n",
    "\n",
    "import platform\n",
    "\n",
    "from matplotlib import font_manager, rc\n",
    "plt.rcParams['axes.unicode_minus'] = False\n",
    "\n",
    "if platform.system() == 'Darwin':  # 맥OS \n",
    "    rc('font', family='AppleGothic')\n",
    "elif platform.system() == 'Windows':  # 윈도우\n",
    "    path = \"c:/Windows/Fonts/malgun.ttf\"\n",
    "    font_name = font_manager.FontProperties(fname=path).get_name()\n",
    "    rc('font', family=font_name)\n",
    "else:\n",
    "    print('Unknown system...  sorry~~~')"
   ]
  },
  {
   "cell_type": "markdown",
   "id": "5aa0c569",
   "metadata": {},
   "source": [
    "# 2. 데이터 불러오기"
   ]
  },
  {
   "cell_type": "code",
   "execution_count": 3,
   "id": "7d73a0a2",
   "metadata": {},
   "outputs": [
    {
     "data": {
      "text/html": [
       "<div>\n",
       "<style scoped>\n",
       "    .dataframe tbody tr th:only-of-type {\n",
       "        vertical-align: middle;\n",
       "    }\n",
       "\n",
       "    .dataframe tbody tr th {\n",
       "        vertical-align: top;\n",
       "    }\n",
       "\n",
       "    .dataframe thead th {\n",
       "        text-align: right;\n",
       "    }\n",
       "</style>\n",
       "<table border=\"1\" class=\"dataframe\">\n",
       "  <thead>\n",
       "    <tr style=\"text-align: right;\">\n",
       "      <th></th>\n",
       "      <th>시점</th>\n",
       "      <th>수출액</th>\n",
       "      <th>수입액</th>\n",
       "      <th>환율</th>\n",
       "      <th>소비자 물가지수</th>\n",
       "      <th>기준금리(연%)</th>\n",
       "      <th>국제유가</th>\n",
       "      <th>항공 운임</th>\n",
       "      <th>고용률(%)</th>\n",
       "      <th>가동률지수(원지수)</th>\n",
       "    </tr>\n",
       "  </thead>\n",
       "  <tbody>\n",
       "    <tr>\n",
       "      <th>0</th>\n",
       "      <td>2015.01</td>\n",
       "      <td>5262694</td>\n",
       "      <td>3353905</td>\n",
       "      <td>1093.5</td>\n",
       "      <td>94.643</td>\n",
       "      <td>2.00</td>\n",
       "      <td>45.77</td>\n",
       "      <td>1.226</td>\n",
       "      <td>59.0</td>\n",
       "      <td>79.7</td>\n",
       "    </tr>\n",
       "    <tr>\n",
       "      <th>1</th>\n",
       "      <td>2015.02</td>\n",
       "      <td>4760336</td>\n",
       "      <td>2822967</td>\n",
       "      <td>1098.4</td>\n",
       "      <td>94.587</td>\n",
       "      <td>2.00</td>\n",
       "      <td>55.69</td>\n",
       "      <td>1.226</td>\n",
       "      <td>59.1</td>\n",
       "      <td>78.9</td>\n",
       "    </tr>\n",
       "    <tr>\n",
       "      <th>2</th>\n",
       "      <td>2015.03</td>\n",
       "      <td>5388654</td>\n",
       "      <td>3199381</td>\n",
       "      <td>1109.5</td>\n",
       "      <td>94.596</td>\n",
       "      <td>1.75</td>\n",
       "      <td>54.69</td>\n",
       "      <td>1.128</td>\n",
       "      <td>59.8</td>\n",
       "      <td>88.7</td>\n",
       "    </tr>\n",
       "    <tr>\n",
       "      <th>3</th>\n",
       "      <td>2015.04</td>\n",
       "      <td>5162367</td>\n",
       "      <td>3115806</td>\n",
       "      <td>1072.4</td>\n",
       "      <td>94.625</td>\n",
       "      <td>1.75</td>\n",
       "      <td>57.72</td>\n",
       "      <td>1.038</td>\n",
       "      <td>60.6</td>\n",
       "      <td>90.1</td>\n",
       "    </tr>\n",
       "    <tr>\n",
       "      <th>4</th>\n",
       "      <td>2015.05</td>\n",
       "      <td>5111415</td>\n",
       "      <td>2892591</td>\n",
       "      <td>1108.2</td>\n",
       "      <td>94.890</td>\n",
       "      <td>1.75</td>\n",
       "      <td>63.02</td>\n",
       "      <td>1.058</td>\n",
       "      <td>61.2</td>\n",
       "      <td>92.2</td>\n",
       "    </tr>\n",
       "    <tr>\n",
       "      <th>...</th>\n",
       "      <td>...</td>\n",
       "      <td>...</td>\n",
       "      <td>...</td>\n",
       "      <td>...</td>\n",
       "      <td>...</td>\n",
       "      <td>...</td>\n",
       "      <td>...</td>\n",
       "      <td>...</td>\n",
       "      <td>...</td>\n",
       "      <td>...</td>\n",
       "    </tr>\n",
       "    <tr>\n",
       "      <th>79</th>\n",
       "      <td>2021.08</td>\n",
       "      <td>11695023</td>\n",
       "      <td>5311582</td>\n",
       "      <td>1159.5</td>\n",
       "      <td>102.750</td>\n",
       "      <td>0.75</td>\n",
       "      <td>69.50</td>\n",
       "      <td>3.160</td>\n",
       "      <td>61.2</td>\n",
       "      <td>132.3</td>\n",
       "    </tr>\n",
       "    <tr>\n",
       "      <th>80</th>\n",
       "      <td>2021.09</td>\n",
       "      <td>12180206</td>\n",
       "      <td>5458903</td>\n",
       "      <td>1184.0</td>\n",
       "      <td>103.170</td>\n",
       "      <td>0.75</td>\n",
       "      <td>72.63</td>\n",
       "      <td>3.160</td>\n",
       "      <td>61.3</td>\n",
       "      <td>130.8</td>\n",
       "    </tr>\n",
       "    <tr>\n",
       "      <th>81</th>\n",
       "      <td>2021.10</td>\n",
       "      <td>11173464</td>\n",
       "      <td>5410830</td>\n",
       "      <td>1168.6</td>\n",
       "      <td>103.350</td>\n",
       "      <td>0.75</td>\n",
       "      <td>81.61</td>\n",
       "      <td>2.740</td>\n",
       "      <td>61.4</td>\n",
       "      <td>127.9</td>\n",
       "    </tr>\n",
       "    <tr>\n",
       "      <th>82</th>\n",
       "      <td>2021.11</td>\n",
       "      <td>12035996</td>\n",
       "      <td>6046221</td>\n",
       "      <td>1187.9</td>\n",
       "      <td>103.870</td>\n",
       "      <td>1.00</td>\n",
       "      <td>80.30</td>\n",
       "      <td>2.680</td>\n",
       "      <td>61.5</td>\n",
       "      <td>127.8</td>\n",
       "    </tr>\n",
       "    <tr>\n",
       "      <th>83</th>\n",
       "      <td>2021.12</td>\n",
       "      <td>12780662</td>\n",
       "      <td>6356192</td>\n",
       "      <td>1188.8</td>\n",
       "      <td>104.040</td>\n",
       "      <td>1.00</td>\n",
       "      <td>73.21</td>\n",
       "      <td>2.580</td>\n",
       "      <td>60.4</td>\n",
       "      <td>136.3</td>\n",
       "    </tr>\n",
       "  </tbody>\n",
       "</table>\n",
       "<p>84 rows × 10 columns</p>\n",
       "</div>"
      ],
      "text/plain": [
       "         시점       수출액      수입액      환율  소비자 물가지수  기준금리(연%)   국제유가  항공 운임  \\\n",
       "0   2015.01   5262694  3353905  1093.5    94.643      2.00  45.77  1.226   \n",
       "1   2015.02   4760336  2822967  1098.4    94.587      2.00  55.69  1.226   \n",
       "2   2015.03   5388654  3199381  1109.5    94.596      1.75  54.69  1.128   \n",
       "3   2015.04   5162367  3115806  1072.4    94.625      1.75  57.72  1.038   \n",
       "4   2015.05   5111415  2892591  1108.2    94.890      1.75  63.02  1.058   \n",
       "..      ...       ...      ...     ...       ...       ...    ...    ...   \n",
       "79  2021.08  11695023  5311582  1159.5   102.750      0.75  69.50  3.160   \n",
       "80  2021.09  12180206  5458903  1184.0   103.170      0.75  72.63  3.160   \n",
       "81  2021.10  11173464  5410830  1168.6   103.350      0.75  81.61  2.740   \n",
       "82  2021.11  12035996  6046221  1187.9   103.870      1.00  80.30  2.680   \n",
       "83  2021.12  12780662  6356192  1188.8   104.040      1.00  73.21  2.580   \n",
       "\n",
       "    고용률(%)  가동률지수(원지수)  \n",
       "0     59.0        79.7  \n",
       "1     59.1        78.9  \n",
       "2     59.8        88.7  \n",
       "3     60.6        90.1  \n",
       "4     61.2        92.2  \n",
       "..     ...         ...  \n",
       "79    61.2       132.3  \n",
       "80    61.3       130.8  \n",
       "81    61.4       127.9  \n",
       "82    61.5       127.8  \n",
       "83    60.4       136.3  \n",
       "\n",
       "[84 rows x 10 columns]"
      ]
     },
     "execution_count": 3,
     "metadata": {},
     "output_type": "execute_result"
    }
   ],
   "source": [
    "import numpy as np\n",
    "import pandas as pd\n",
    "import matplotlib.pyplot as plt\n",
    "import seaborn as sns\n",
    "\n",
    "df1 = pd.read_csv('반도체 데이터셋.csv', encoding='cp949')\n",
    "df1 = df1.iloc[:,1:]\n",
    "df1"
   ]
  },
  {
   "cell_type": "code",
   "execution_count": 4,
   "id": "1a6d0cb6",
   "metadata": {
    "scrolled": true
   },
   "outputs": [
    {
     "data": {
      "text/html": [
       "<div>\n",
       "<style scoped>\n",
       "    .dataframe tbody tr th:only-of-type {\n",
       "        vertical-align: middle;\n",
       "    }\n",
       "\n",
       "    .dataframe tbody tr th {\n",
       "        vertical-align: top;\n",
       "    }\n",
       "\n",
       "    .dataframe thead th {\n",
       "        text-align: right;\n",
       "    }\n",
       "</style>\n",
       "<table border=\"1\" class=\"dataframe\">\n",
       "  <thead>\n",
       "    <tr style=\"text-align: right;\">\n",
       "      <th></th>\n",
       "      <th>시점</th>\n",
       "      <th>수출액</th>\n",
       "      <th>수입액</th>\n",
       "      <th>환율</th>\n",
       "      <th>소비자 물가지수</th>\n",
       "      <th>기준금리(연%)</th>\n",
       "      <th>국제유가</th>\n",
       "      <th>항공 운임</th>\n",
       "      <th>고용률(%)</th>\n",
       "      <th>가동률지수(원지수)</th>\n",
       "    </tr>\n",
       "  </thead>\n",
       "  <tbody>\n",
       "    <tr>\n",
       "      <th>count</th>\n",
       "      <td>84.000000</td>\n",
       "      <td>8.400000e+01</td>\n",
       "      <td>8.400000e+01</td>\n",
       "      <td>84.000000</td>\n",
       "      <td>84.000000</td>\n",
       "      <td>84.000000</td>\n",
       "      <td>84.00000</td>\n",
       "      <td>84.000000</td>\n",
       "      <td>84.000000</td>\n",
       "      <td>84.000000</td>\n",
       "    </tr>\n",
       "    <tr>\n",
       "      <th>mean</th>\n",
       "      <td>2018.065000</td>\n",
       "      <td>7.986605e+06</td>\n",
       "      <td>3.803596e+06</td>\n",
       "      <td>1144.058333</td>\n",
       "      <td>98.476940</td>\n",
       "      <td>1.244048</td>\n",
       "      <td>55.66500</td>\n",
       "      <td>1.579476</td>\n",
       "      <td>60.596429</td>\n",
       "      <td>112.104762</td>\n",
       "    </tr>\n",
       "    <tr>\n",
       "      <th>std</th>\n",
       "      <td>2.012312</td>\n",
       "      <td>2.249697e+06</td>\n",
       "      <td>7.510954e+05</td>\n",
       "      <td>42.219350</td>\n",
       "      <td>2.478499</td>\n",
       "      <td>0.430355</td>\n",
       "      <td>13.27462</td>\n",
       "      <td>0.855005</td>\n",
       "      <td>0.900127</td>\n",
       "      <td>12.145344</td>\n",
       "    </tr>\n",
       "    <tr>\n",
       "      <th>min</th>\n",
       "      <td>2015.010000</td>\n",
       "      <td>4.151085e+06</td>\n",
       "      <td>2.799589e+06</td>\n",
       "      <td>1063.500000</td>\n",
       "      <td>94.587000</td>\n",
       "      <td>0.500000</td>\n",
       "      <td>20.39000</td>\n",
       "      <td>0.874000</td>\n",
       "      <td>57.400000</td>\n",
       "      <td>78.900000</td>\n",
       "    </tr>\n",
       "    <tr>\n",
       "      <th>25%</th>\n",
       "      <td>2016.097500</td>\n",
       "      <td>5.771093e+06</td>\n",
       "      <td>3.248737e+06</td>\n",
       "      <td>1114.725000</td>\n",
       "      <td>96.244500</td>\n",
       "      <td>1.000000</td>\n",
       "      <td>45.77000</td>\n",
       "      <td>0.974000</td>\n",
       "      <td>60.100000</td>\n",
       "      <td>106.625000</td>\n",
       "    </tr>\n",
       "    <tr>\n",
       "      <th>50%</th>\n",
       "      <td>2018.065000</td>\n",
       "      <td>8.001840e+06</td>\n",
       "      <td>3.699834e+06</td>\n",
       "      <td>1139.450000</td>\n",
       "      <td>98.907500</td>\n",
       "      <td>1.250000</td>\n",
       "      <td>55.65000</td>\n",
       "      <td>1.160000</td>\n",
       "      <td>60.900000</td>\n",
       "      <td>114.600000</td>\n",
       "    </tr>\n",
       "    <tr>\n",
       "      <th>75%</th>\n",
       "      <td>2020.032500</td>\n",
       "      <td>9.522134e+06</td>\n",
       "      <td>4.143235e+06</td>\n",
       "      <td>1181.525000</td>\n",
       "      <td>100.041000</td>\n",
       "      <td>1.500000</td>\n",
       "      <td>64.67000</td>\n",
       "      <td>1.635000</td>\n",
       "      <td>61.300000</td>\n",
       "      <td>120.300000</td>\n",
       "    </tr>\n",
       "    <tr>\n",
       "      <th>max</th>\n",
       "      <td>2021.120000</td>\n",
       "      <td>1.278066e+07</td>\n",
       "      <td>6.356192e+06</td>\n",
       "      <td>1238.500000</td>\n",
       "      <td>104.040000</td>\n",
       "      <td>2.000000</td>\n",
       "      <td>81.61000</td>\n",
       "      <td>3.200000</td>\n",
       "      <td>61.700000</td>\n",
       "      <td>136.300000</td>\n",
       "    </tr>\n",
       "  </tbody>\n",
       "</table>\n",
       "</div>"
      ],
      "text/plain": [
       "                시점           수출액           수입액           환율    소비자 물가지수  \\\n",
       "count    84.000000  8.400000e+01  8.400000e+01    84.000000   84.000000   \n",
       "mean   2018.065000  7.986605e+06  3.803596e+06  1144.058333   98.476940   \n",
       "std       2.012312  2.249697e+06  7.510954e+05    42.219350    2.478499   \n",
       "min    2015.010000  4.151085e+06  2.799589e+06  1063.500000   94.587000   \n",
       "25%    2016.097500  5.771093e+06  3.248737e+06  1114.725000   96.244500   \n",
       "50%    2018.065000  8.001840e+06  3.699834e+06  1139.450000   98.907500   \n",
       "75%    2020.032500  9.522134e+06  4.143235e+06  1181.525000  100.041000   \n",
       "max    2021.120000  1.278066e+07  6.356192e+06  1238.500000  104.040000   \n",
       "\n",
       "        기준금리(연%)      국제유가      항공 운임     고용률(%)  가동률지수(원지수)  \n",
       "count  84.000000  84.00000  84.000000  84.000000   84.000000  \n",
       "mean    1.244048  55.66500   1.579476  60.596429  112.104762  \n",
       "std     0.430355  13.27462   0.855005   0.900127   12.145344  \n",
       "min     0.500000  20.39000   0.874000  57.400000   78.900000  \n",
       "25%     1.000000  45.77000   0.974000  60.100000  106.625000  \n",
       "50%     1.250000  55.65000   1.160000  60.900000  114.600000  \n",
       "75%     1.500000  64.67000   1.635000  61.300000  120.300000  \n",
       "max     2.000000  81.61000   3.200000  61.700000  136.300000  "
      ]
     },
     "execution_count": 4,
     "metadata": {},
     "output_type": "execute_result"
    }
   ],
   "source": [
    "df1.describe()"
   ]
  },
  {
   "cell_type": "code",
   "execution_count": 5,
   "id": "533d4c6a",
   "metadata": {
    "scrolled": true
   },
   "outputs": [],
   "source": [
    "y = df1['수입액']\n",
    "df2 = df1.drop(['시점','수입액','수출액'], axis=1)\n",
    "X = df2"
   ]
  },
  {
   "cell_type": "markdown",
   "id": "6c88238f",
   "metadata": {},
   "source": [
    "# 3. 선형회귀 모델 - OLS"
   ]
  },
  {
   "cell_type": "code",
   "execution_count": 6,
   "id": "cd0645f9",
   "metadata": {},
   "outputs": [
    {
     "name": "stderr",
     "output_type": "stream",
     "text": [
      "C:\\Users\\0528x\\anaconda3\\lib\\site-packages\\statsmodels\\tsa\\tsatools.py:142: FutureWarning: In a future version of pandas all arguments of concat except for the argument 'objs' will be keyword-only\n",
      "  x = pd.concat(x[::order], 1)\n"
     ]
    }
   ],
   "source": [
    "X_train, X_test, y_train, y_test = train_test_split(X, y, test_size=0.2, random_state=121)\n",
    "\n",
    "# (1) 선형회귀 모델 가정 확인하기\n",
    "X_train = sm.add_constant(X_train)  \n",
    "# add_constant: 베타0을 구성될 수 있도록 임의의 1로 된 벡터를 컬럼에 추가\n",
    "model = sm.OLS(y_train, X_train, axis=1) # 모델 선언\n",
    "model_trained = model.fit() # 모델 학습"
   ]
  },
  {
   "cell_type": "code",
   "execution_count": 7,
   "id": "259509a8",
   "metadata": {},
   "outputs": [
    {
     "name": "stderr",
     "output_type": "stream",
     "text": [
      "C:\\Users\\0528x\\anaconda3\\lib\\site-packages\\statsmodels\\graphics\\gofplots.py:993: UserWarning: marker is redundantly defined by the 'marker' keyword argument and the fmt string \"bo\" (-> marker='o'). The keyword argument will take precedence.\n",
      "  ax.plot(x, y, fmt, **plot_style)\n",
      "C:\\Users\\0528x\\anaconda3\\lib\\site-packages\\statsmodels\\graphics\\gofplots.py:993: UserWarning: color is redundantly defined by the 'color' keyword argument and the fmt string \"bo\" (-> color='b'). The keyword argument will take precedence.\n",
      "  ax.plot(x, y, fmt, **plot_style)\n"
     ]
    },
    {
     "data": {
      "image/png": "[encoded data removed]",
      "text/plain": [
       "<Figure size 864x864 with 1 Axes>"
      ]
     },
     "metadata": {
      "needs_background": "light"
     },
     "output_type": "display_data"
    }
   ],
   "source": [
    "# (2) 확률오차의 정규성 확인\n",
    "\n",
    "model_residuals = model_trained.resid\n",
    "\n",
    "plt.rcParams['axes.unicode_minus'] = False  # 음수 폰트 깨짐 방지\n",
    "fig, ax = plt.subplots(1, 1)\n",
    "fig.set_figheight(12)\n",
    "fig.set_figwidth(12)\n",
    "\n",
    "sm.ProbPlot(model_residuals).qqplot(line='s', color='#1f77b4', ax=ax)\n",
    "ax.title.set_text('QQ Plot')"
   ]
  },
  {
   "cell_type": "code",
   "execution_count": 8,
   "id": "22341f8c",
   "metadata": {},
   "outputs": [
    {
     "name": "stderr",
     "output_type": "stream",
     "text": [
      "C:\\Users\\0528x\\anaconda3\\lib\\site-packages\\seaborn\\_decorators.py:36: FutureWarning: Pass the following variables as keyword args: x, y. From version 0.12, the only valid positional argument will be `data`, and passing other arguments without an explicit keyword will result in an error or misinterpretation.\n",
      "  warnings.warn(\n"
     ]
    },
    {
     "data": {
      "text/plain": [
       "[Text(0.5, 0, 'Fitted values'), Text(0, 0.5, 'Residuals')]"
      ]
     },
     "execution_count": 8,
     "metadata": {},
     "output_type": "execute_result"
    },
    {
     "data": {
      "image/png": "[encoded data removed]",
      "text/plain": [
       "<Figure size 864x576 with 1 Axes>"
      ]
     },
     "metadata": {
      "needs_background": "light"
     },
     "output_type": "display_data"
    }
   ],
   "source": [
    "# (3) 확률 오차의 등분산성 확인\n",
    "\n",
    "model_fitted_y = model_trained.fittedvalues\n",
    "\n",
    "fig, ax = plt.subplots(1, 1)\n",
    "fig.set_figheight(8)\n",
    "fig.set_figwidth(12)\n",
    "\n",
    "sns.residplot(model_fitted_y, y_train, data=X_train, lowess=True,\n",
    "             scatter_kws={'alpha':0.5}, line_kws={'color':'red'}, ax=ax)\n",
    "ax.title.set_text('Residuals vs Fitted')\n",
    "ax.set(xlabel='Fitted values', ylabel='Residuals')"
   ]
  },
  {
   "cell_type": "code",
   "execution_count": 9,
   "id": "9c2c474e",
   "metadata": {},
   "outputs": [
    {
     "data": {
      "text/html": [
       "<table class=\"simpletable\">\n",
       "<caption>OLS Regression Results</caption>\n",
       "<tr>\n",
       "  <th>Dep. Variable:</th>           <td>수입액</td>       <th>  R-squared:         </th> <td>   0.847</td>\n",
       "</tr>\n",
       "<tr>\n",
       "  <th>Model:</th>                   <td>OLS</td>       <th>  Adj. R-squared:    </th> <td>   0.829</td>\n",
       "</tr>\n",
       "<tr>\n",
       "  <th>Method:</th>             <td>Least Squares</td>  <th>  F-statistic:       </th> <td>   46.63</td>\n",
       "</tr>\n",
       "<tr>\n",
       "  <th>Date:</th>             <td>Thu, 31 Mar 2022</td> <th>  Prob (F-statistic):</th> <td>9.93e-22</td>\n",
       "</tr>\n",
       "<tr>\n",
       "  <th>Time:</th>                 <td>14:26:16</td>     <th>  Log-Likelihood:    </th> <td> -937.07</td>\n",
       "</tr>\n",
       "<tr>\n",
       "  <th>No. Observations:</th>      <td>    67</td>      <th>  AIC:               </th> <td>   1890.</td>\n",
       "</tr>\n",
       "<tr>\n",
       "  <th>Df Residuals:</th>          <td>    59</td>      <th>  BIC:               </th> <td>   1908.</td>\n",
       "</tr>\n",
       "<tr>\n",
       "  <th>Df Model:</th>              <td>     7</td>      <th>                     </th>     <td> </td>   \n",
       "</tr>\n",
       "<tr>\n",
       "  <th>Covariance Type:</th>      <td>nonrobust</td>    <th>                     </th>     <td> </td>   \n",
       "</tr>\n",
       "</table>\n",
       "<table class=\"simpletable\">\n",
       "<tr>\n",
       "       <td></td>         <th>coef</th>     <th>std err</th>      <th>t</th>      <th>P>|t|</th>  <th>[0.025</th>    <th>0.975]</th>  \n",
       "</tr>\n",
       "<tr>\n",
       "  <th>const</th>      <td>-2.037e+07</td> <td>  4.6e+06</td> <td>   -4.430</td> <td> 0.000</td> <td>-2.96e+07</td> <td>-1.12e+07</td>\n",
       "</tr>\n",
       "<tr>\n",
       "  <th>환율</th>         <td>  -75.5528</td> <td> 1107.026</td> <td>   -0.068</td> <td> 0.946</td> <td>-2290.707</td> <td> 2139.601</td>\n",
       "</tr>\n",
       "<tr>\n",
       "  <th>소비자 물가지수</th>   <td> 1.785e+05</td> <td> 3.53e+04</td> <td>    5.060</td> <td> 0.000</td> <td> 1.08e+05</td> <td> 2.49e+05</td>\n",
       "</tr>\n",
       "<tr>\n",
       "  <th>기준금리(연%)</th>   <td>  8.08e+05</td> <td> 2.34e+05</td> <td>    3.460</td> <td> 0.001</td> <td> 3.41e+05</td> <td> 1.28e+06</td>\n",
       "</tr>\n",
       "<tr>\n",
       "  <th>국제유가</th>       <td>-2849.3534</td> <td> 5764.934</td> <td>   -0.494</td> <td> 0.623</td> <td>-1.44e+04</td> <td> 8686.253</td>\n",
       "</tr>\n",
       "<tr>\n",
       "  <th>항공 운임</th>      <td> 5.835e+05</td> <td> 1.11e+05</td> <td>    5.267</td> <td> 0.000</td> <td> 3.62e+05</td> <td> 8.05e+05</td>\n",
       "</tr>\n",
       "<tr>\n",
       "  <th>고용률(%)</th>     <td> 6.494e+04</td> <td> 5.52e+04</td> <td>    1.176</td> <td> 0.244</td> <td>-4.56e+04</td> <td> 1.75e+05</td>\n",
       "</tr>\n",
       "<tr>\n",
       "  <th>가동률지수(원지수)</th> <td> 8705.3924</td> <td> 4777.139</td> <td>    1.822</td> <td> 0.073</td> <td> -853.642</td> <td> 1.83e+04</td>\n",
       "</tr>\n",
       "</table>\n",
       "<table class=\"simpletable\">\n",
       "<tr>\n",
       "  <th>Omnibus:</th>       <td> 6.569</td> <th>  Durbin-Watson:     </th> <td>   1.811</td>\n",
       "</tr>\n",
       "<tr>\n",
       "  <th>Prob(Omnibus):</th> <td> 0.037</td> <th>  Jarque-Bera (JB):  </th> <td>   6.878</td>\n",
       "</tr>\n",
       "<tr>\n",
       "  <th>Skew:</th>          <td> 0.455</td> <th>  Prob(JB):          </th> <td>  0.0321</td>\n",
       "</tr>\n",
       "<tr>\n",
       "  <th>Kurtosis:</th>      <td> 4.280</td> <th>  Cond. No.          </th> <td>1.43e+05</td>\n",
       "</tr>\n",
       "</table><br/><br/>Notes:<br/>[1] Standard Errors assume that the covariance matrix of the errors is correctly specified.<br/>[2] The condition number is large, 1.43e+05. This might indicate that there are<br/>strong multicollinearity or other numerical problems."
      ],
      "text/plain": [
       "<class 'statsmodels.iolib.summary.Summary'>\n",
       "\"\"\"\n",
       "                            OLS Regression Results                            \n",
       "==============================================================================\n",
       "Dep. Variable:                    수입액   R-squared:                       0.847\n",
       "Model:                            OLS   Adj. R-squared:                  0.829\n",
       "Method:                 Least Squares   F-statistic:                     46.63\n",
       "Date:                Thu, 31 Mar 2022   Prob (F-statistic):           9.93e-22\n",
       "Time:                        14:26:16   Log-Likelihood:                -937.07\n",
       "No. Observations:                  67   AIC:                             1890.\n",
       "Df Residuals:                      59   BIC:                             1908.\n",
       "Df Model:                           7                                         \n",
       "Covariance Type:            nonrobust                                         \n",
       "==============================================================================\n",
       "                 coef    std err          t      P>|t|      [0.025      0.975]\n",
       "------------------------------------------------------------------------------\n",
       "const      -2.037e+07    4.6e+06     -4.430      0.000   -2.96e+07   -1.12e+07\n",
       "환율           -75.5528   1107.026     -0.068      0.946   -2290.707    2139.601\n",
       "소비자 물가지수    1.785e+05   3.53e+04      5.060      0.000    1.08e+05    2.49e+05\n",
       "기준금리(연%)     8.08e+05   2.34e+05      3.460      0.001    3.41e+05    1.28e+06\n",
       "국제유가       -2849.3534   5764.934     -0.494      0.623   -1.44e+04    8686.253\n",
       "항공 운임       5.835e+05   1.11e+05      5.267      0.000    3.62e+05    8.05e+05\n",
       "고용률(%)      6.494e+04   5.52e+04      1.176      0.244   -4.56e+04    1.75e+05\n",
       "가동률지수(원지수)  8705.3924   4777.139      1.822      0.073    -853.642    1.83e+04\n",
       "==============================================================================\n",
       "Omnibus:                        6.569   Durbin-Watson:                   1.811\n",
       "Prob(Omnibus):                  0.037   Jarque-Bera (JB):                6.878\n",
       "Skew:                           0.455   Prob(JB):                       0.0321\n",
       "Kurtosis:                       4.280   Cond. No.                     1.43e+05\n",
       "==============================================================================\n",
       "\n",
       "Notes:\n",
       "[1] Standard Errors assume that the covariance matrix of the errors is correctly specified.\n",
       "[2] The condition number is large, 1.43e+05. This might indicate that there are\n",
       "strong multicollinearity or other numerical problems.\n",
       "\"\"\""
      ]
     },
     "execution_count": 9,
     "metadata": {},
     "output_type": "execute_result"
    }
   ],
   "source": [
    "# (4) 통계적으로 설명 (해석)\n",
    "# - R-squared(결정계수): 모형의 성능\n",
    "# - coef(회귀계수) : X가 한 단위 증가할 때, Y의 변화량\n",
    "# - P > [t] (p-value) : 0.05(유의수준) 이하일 때 변수가 유의미\n",
    "\n",
    "model_trained.summary()"
   ]
  },
  {
   "cell_type": "markdown",
   "id": "1836e435",
   "metadata": {},
   "source": [
    "### p-value > 0.05인 피처 제외하기"
   ]
  },
  {
   "cell_type": "markdown",
   "id": "428c3931",
   "metadata": {},
   "source": [
    "p-value가 높은 순서대로 하나씩 넣어서 제외하기"
   ]
  },
  {
   "cell_type": "code",
   "execution_count": 12,
   "id": "92cb4bb3",
   "metadata": {},
   "outputs": [
    {
     "data": {
      "text/html": [
       "<table class=\"simpletable\">\n",
       "<caption>OLS Regression Results</caption>\n",
       "<tr>\n",
       "  <th>Dep. Variable:</th>           <td>수입액</td>       <th>  R-squared:         </th> <td>   0.843</td>\n",
       "</tr>\n",
       "<tr>\n",
       "  <th>Model:</th>                   <td>OLS</td>       <th>  Adj. R-squared:    </th> <td>   0.833</td>\n",
       "</tr>\n",
       "<tr>\n",
       "  <th>Method:</th>             <td>Least Squares</td>  <th>  F-statistic:       </th> <td>   83.32</td>\n",
       "</tr>\n",
       "<tr>\n",
       "  <th>Date:</th>             <td>Thu, 31 Mar 2022</td> <th>  Prob (F-statistic):</th> <td>3.12e-24</td>\n",
       "</tr>\n",
       "<tr>\n",
       "  <th>Time:</th>                 <td>14:26:43</td>     <th>  Log-Likelihood:    </th> <td> -937.89</td>\n",
       "</tr>\n",
       "<tr>\n",
       "  <th>No. Observations:</th>      <td>    67</td>      <th>  AIC:               </th> <td>   1886.</td>\n",
       "</tr>\n",
       "<tr>\n",
       "  <th>Df Residuals:</th>          <td>    62</td>      <th>  BIC:               </th> <td>   1897.</td>\n",
       "</tr>\n",
       "<tr>\n",
       "  <th>Df Model:</th>              <td>     4</td>      <th>                     </th>     <td> </td>   \n",
       "</tr>\n",
       "<tr>\n",
       "  <th>Covariance Type:</th>      <td>nonrobust</td>    <th>                     </th>     <td> </td>   \n",
       "</tr>\n",
       "</table>\n",
       "<table class=\"simpletable\">\n",
       "<tr>\n",
       "       <td></td>         <th>coef</th>     <th>std err</th>      <th>t</th>      <th>P>|t|</th>  <th>[0.025</th>    <th>0.975]</th>  \n",
       "</tr>\n",
       "<tr>\n",
       "  <th>const</th>      <td>-1.576e+07</td> <td> 2.11e+06</td> <td>   -7.473</td> <td> 0.000</td> <td>   -2e+07</td> <td>-1.15e+07</td>\n",
       "</tr>\n",
       "<tr>\n",
       "  <th>소비자 물가지수</th>   <td> 1.672e+05</td> <td> 2.41e+04</td> <td>    6.929</td> <td> 0.000</td> <td> 1.19e+05</td> <td> 2.15e+05</td>\n",
       "</tr>\n",
       "<tr>\n",
       "  <th>기준금리(연%)</th>   <td> 7.697e+05</td> <td> 1.94e+05</td> <td>    3.968</td> <td> 0.000</td> <td> 3.82e+05</td> <td> 1.16e+06</td>\n",
       "</tr>\n",
       "<tr>\n",
       "  <th>항공 운임</th>      <td> 5.568e+05</td> <td> 1.07e+05</td> <td>    5.206</td> <td> 0.000</td> <td> 3.43e+05</td> <td> 7.71e+05</td>\n",
       "</tr>\n",
       "<tr>\n",
       "  <th>가동률지수(원지수)</th> <td> 1.126e+04</td> <td> 3936.786</td> <td>    2.861</td> <td> 0.006</td> <td> 3395.018</td> <td> 1.91e+04</td>\n",
       "</tr>\n",
       "</table>\n",
       "<table class=\"simpletable\">\n",
       "<tr>\n",
       "  <th>Omnibus:</th>       <td> 4.503</td> <th>  Durbin-Watson:     </th> <td>   1.799</td>\n",
       "</tr>\n",
       "<tr>\n",
       "  <th>Prob(Omnibus):</th> <td> 0.105</td> <th>  Jarque-Bera (JB):  </th> <td>   3.730</td>\n",
       "</tr>\n",
       "<tr>\n",
       "  <th>Skew:</th>          <td> 0.418</td> <th>  Prob(JB):          </th> <td>   0.155</td>\n",
       "</tr>\n",
       "<tr>\n",
       "  <th>Kurtosis:</th>      <td> 3.799</td> <th>  Cond. No.          </th> <td>8.58e+03</td>\n",
       "</tr>\n",
       "</table><br/><br/>Notes:<br/>[1] Standard Errors assume that the covariance matrix of the errors is correctly specified.<br/>[2] The condition number is large, 8.58e+03. This might indicate that there are<br/>strong multicollinearity or other numerical problems."
      ],
      "text/plain": [
       "<class 'statsmodels.iolib.summary.Summary'>\n",
       "\"\"\"\n",
       "                            OLS Regression Results                            \n",
       "==============================================================================\n",
       "Dep. Variable:                    수입액   R-squared:                       0.843\n",
       "Model:                            OLS   Adj. R-squared:                  0.833\n",
       "Method:                 Least Squares   F-statistic:                     83.32\n",
       "Date:                Thu, 31 Mar 2022   Prob (F-statistic):           3.12e-24\n",
       "Time:                        14:26:43   Log-Likelihood:                -937.89\n",
       "No. Observations:                  67   AIC:                             1886.\n",
       "Df Residuals:                      62   BIC:                             1897.\n",
       "Df Model:                           4                                         \n",
       "Covariance Type:            nonrobust                                         \n",
       "==============================================================================\n",
       "                 coef    std err          t      P>|t|      [0.025      0.975]\n",
       "------------------------------------------------------------------------------\n",
       "const      -1.576e+07   2.11e+06     -7.473      0.000      -2e+07   -1.15e+07\n",
       "소비자 물가지수    1.672e+05   2.41e+04      6.929      0.000    1.19e+05    2.15e+05\n",
       "기준금리(연%)    7.697e+05   1.94e+05      3.968      0.000    3.82e+05    1.16e+06\n",
       "항공 운임       5.568e+05   1.07e+05      5.206      0.000    3.43e+05    7.71e+05\n",
       "가동률지수(원지수)  1.126e+04   3936.786      2.861      0.006    3395.018    1.91e+04\n",
       "==============================================================================\n",
       "Omnibus:                        4.503   Durbin-Watson:                   1.799\n",
       "Prob(Omnibus):                  0.105   Jarque-Bera (JB):                3.730\n",
       "Skew:                           0.418   Prob(JB):                        0.155\n",
       "Kurtosis:                       3.799   Cond. No.                     8.58e+03\n",
       "==============================================================================\n",
       "\n",
       "Notes:\n",
       "[1] Standard Errors assume that the covariance matrix of the errors is correctly specified.\n",
       "[2] The condition number is large, 8.58e+03. This might indicate that there are\n",
       "strong multicollinearity or other numerical problems.\n",
       "\"\"\""
      ]
     },
     "execution_count": 12,
     "metadata": {},
     "output_type": "execute_result"
    }
   ],
   "source": [
    "# 모델 선언\n",
    "model = sm.OLS(y_train, X_train.drop(['환율','국제유가','고용률(%)'], axis=1))\n",
    "\n",
    "# 모델 학습\n",
    "model_trained = model.fit()\n",
    "model_trained.summary()"
   ]
  },
  {
   "cell_type": "raw",
   "id": "a72842da",
   "metadata": {},
   "source": [
    "p-value가 0.05 넘는 피처 제외하기\n",
    "['환율','국제유가','고용률(%)']"
   ]
  },
  {
   "cell_type": "markdown",
   "id": "7af476db",
   "metadata": {},
   "source": [
    "`수입액 = 1.672e+05 * 소비자 물가지수 + 7.697e+05 * 기준금리(연%) + 5.568e+05 * 항공 운임 + 1.126e+04 * 가동률지수(원지수) - 1.576e+07`"
   ]
  },
  {
   "cell_type": "markdown",
   "id": "a7568eed",
   "metadata": {},
   "source": [
    "# 5. 예측 : 미래의 반응변수 값 예측하기"
   ]
  },
  {
   "cell_type": "code",
   "execution_count": 13,
   "id": "7c758114",
   "metadata": {},
   "outputs": [
    {
     "name": "stderr",
     "output_type": "stream",
     "text": [
      "C:\\Users\\0528x\\anaconda3\\lib\\site-packages\\statsmodels\\tsa\\tsatools.py:142: FutureWarning: In a future version of pandas all arguments of concat except for the argument 'objs' will be keyword-only\n",
      "  x = pd.concat(x[::order], 1)\n"
     ]
    }
   ],
   "source": [
    "X_test = sm.add_constant(X_test)"
   ]
  },
  {
   "cell_type": "code",
   "execution_count": 14,
   "id": "fa8f5f4a",
   "metadata": {
    "scrolled": true
   },
   "outputs": [
    {
     "name": "stdout",
     "output_type": "stream",
     "text": [
      "6356192\n",
      "2799589\n"
     ]
    }
   ],
   "source": [
    "print(y_train.max())\n",
    "print(y_train.min())"
   ]
  },
  {
   "cell_type": "code",
   "execution_count": 16,
   "id": "79e39b0e",
   "metadata": {
    "scrolled": false
   },
   "outputs": [
    {
     "name": "stdout",
     "output_type": "stream",
     "text": [
      "5374199.910765252\n",
      "2879069.3693598406\n"
     ]
    }
   ],
   "source": [
    "print(y_train_pred.max())\n",
    "print(y_train_pred.min())"
   ]
  },
  {
   "cell_type": "code",
   "execution_count": 17,
   "id": "89696da9",
   "metadata": {},
   "outputs": [
    {
     "data": {
      "image/png": "[encoded data removed]",
      "text/plain": [
       "<Figure size 576x576 with 1 Axes>"
      ]
     },
     "metadata": {
      "needs_background": "light"
     },
     "output_type": "display_data"
    }
   ],
   "source": [
    "y_train_pred = model_trained.fittedvalues\n",
    "\n",
    "plt.figure(figsize=(8, 8))\n",
    "plt.title('실제값 vs 모델 출력 값')\n",
    "plt.scatter(y_train, y_train_pred)\n",
    "plt.plot([2.7e6, 6.4e6], [2.7e6, 6.4e6], ls='--', c='red')\n",
    "plt.xlabel('실제값', size=16)\n",
    "plt.ylabel('모델 출력값', size=16)\n",
    "plt.xlim(2.7e6, 6.4e6)\n",
    "plt.ylim(2.7e6, 6.4e6)\n",
    "plt.show()"
   ]
  },
  {
   "cell_type": "code",
   "execution_count": 23,
   "id": "dfad9490",
   "metadata": {
    "scrolled": false
   },
   "outputs": [
    {
     "data": {
      "text/plain": [
       "40    3.864139e+06\n",
       "42    3.886155e+06\n",
       "49    3.838084e+06\n",
       "37    3.693909e+06\n",
       "20    3.096775e+06\n",
       "dtype: float64"
      ]
     },
     "execution_count": 23,
     "metadata": {},
     "output_type": "execute_result"
    }
   ],
   "source": [
    "y_test_pred = model_trained.predict(X_test.drop(['환율','국제유가','고용률(%)'], axis=1))\n",
    "y_test_pred.head() # 예측 결과"
   ]
  },
  {
   "cell_type": "markdown",
   "id": "c3b8e6df",
   "metadata": {},
   "source": [
    "### 6. 해당 모델의 성능 정량적 지표로 도출"
   ]
  },
  {
   "cell_type": "code",
   "execution_count": 24,
   "id": "1e0f1039",
   "metadata": {},
   "outputs": [
    {
     "name": "stdout",
     "output_type": "stream",
     "text": [
      "학습용 데이터셋 결과\n",
      "MSE: 84392591466.461\n",
      "RMSE: 290504.030\n",
      "MAE: 226176.344\n",
      "R2_Score: 0.843\n"
     ]
    }
   ],
   "source": [
    "## 학습용 데이터셋\n",
    "print('학습용 데이터셋 결과')\n",
    "\n",
    "# MSE (평균 제곱 오차)\n",
    "print('MSE: {:.3f}'.format(mean_squared_error(y_train, y_train_pred)))\n",
    "\n",
    "# RMSE (제곱근 평균 제곱 오차)\n",
    "print('RMSE: {:.3f}'.format(np.sqrt(mean_squared_error(y_train, y_train_pred))))\n",
    "\n",
    "# MAE (평균 절대 오차)\n",
    "print('MAE: {:.3f}'.format(mean_absolute_error(y_train, y_train_pred)))\n",
    "\n",
    "# R2_Score (결정계수)\n",
    "print('R2_Score: {:.3f}'.format(r2_score(y_train, y_train_pred)))"
   ]
  },
  {
   "cell_type": "code",
   "execution_count": 25,
   "id": "a87a6834",
   "metadata": {},
   "outputs": [
    {
     "name": "stdout",
     "output_type": "stream",
     "text": [
      "테스트용 데이터셋 결과\n",
      "MSE: 135476203798.491\n",
      "RMSE: 368070.922\n",
      "MAE: 306412.937\n",
      "R2_Score: 0.770\n"
     ]
    }
   ],
   "source": [
    "## 테스트용 데이터셋\n",
    "print('테스트용 데이터셋 결과')\n",
    "\n",
    "# MSE (평균 제곱 오차)\n",
    "print('MSE: {:.3f}'.format(mean_squared_error(y_test, y_test_pred)))\n",
    "\n",
    "# RMSE (제곱근 평균 제곱 오차)\n",
    "print('RMSE: {:.3f}'.format(np.sqrt(mean_squared_error(y_test, y_test_pred))))\n",
    "\n",
    "# MAE (평균 절대 오차)\n",
    "print('MAE: {:.3f}'.format(mean_absolute_error(y_test, y_test_pred)))\n",
    "\n",
    "# R2_Score (결정계수)\n",
    "print('R2_Score: {:.3f}'.format(r2_score(y_test, y_test_pred)))"
   ]
  },
  {
   "cell_type": "markdown",
   "id": "cfe21440",
   "metadata": {},
   "source": [
    "# Linear Regression 사용"
   ]
  },
  {
   "cell_type": "code",
   "execution_count": 26,
   "id": "ef6c8617",
   "metadata": {
    "scrolled": false
   },
   "outputs": [
    {
     "name": "stdout",
     "output_type": "stream",
     "text": [
      "최적의 파라미터 {'fit_intercept': True, 'normalize': False}\n",
      "최고 성능 0.773232827834712\n",
      "mse: 94545527564.48444\n",
      "r2_score: 0.8435590552063811\n"
     ]
    }
   ],
   "source": [
    "from sklearn.linear_model import LinearRegression\n",
    "from sklearn.model_selection import GridSearchCV\n",
    "\n",
    "lr = LinearRegression()\n",
    "\n",
    "# print(lr.get_params().keys())\n",
    "# dict_keys(['copy_X', 'fit_intercept', 'n_jobs', 'normalize', 'positive'])\n",
    "\n",
    "param_grid = {'fit_intercept': [True, False],\n",
    "             'normalize': [False, True],\n",
    "             }\n",
    "\n",
    "grid_lr = GridSearchCV(lr, param_grid=param_grid, cv=3, refit=True)\n",
    "\n",
    "\n",
    "X_train, X_test, y_train, y_test = train_test_split(X, y, test_size=0.3, random_state=121)\n",
    "\n",
    "grid_lr.fit(X_train, y_train)\n",
    "y_pred = grid_lr.predict(X_test)\n",
    "\n",
    "mse = mean_squared_error(y_test, y_pred)\n",
    "r2 = r2_score(y_test, y_pred)\n",
    "\n",
    "print('최적의 파라미터', grid_lr.best_params_)\n",
    "print('최고 성능', grid_lr.best_score_)\n",
    "\n",
    "\n",
    "print('mse:', mse)\n",
    "print('r2_score:', r2)"
   ]
  },
  {
   "cell_type": "code",
   "execution_count": 27,
   "id": "45c8c3a9",
   "metadata": {},
   "outputs": [
    {
     "name": "stdout",
     "output_type": "stream",
     "text": [
      "mse: 94545527564.48444\n",
      "r2_score: 0.8435590552063811\n"
     ]
    }
   ],
   "source": [
    "X_train, X_test, y_train, y_test = train_test_split(X, y, test_size=0.3, random_state=121)\n",
    "lr = LinearRegression()\n",
    "lr.fit(X_train, y_train)\n",
    "y_pred2 = lr.predict(X_test)\n",
    "mse = mean_squared_error(y_test, y_pred2)\n",
    "r2 = r2_score(y_test, y_pred2)\n",
    "\n",
    "print('mse:', mse)\n",
    "print('r2_score:', r2)"
   ]
  },
  {
   "cell_type": "code",
   "execution_count": 28,
   "id": "b642e892",
   "metadata": {},
   "outputs": [
    {
     "data": {
      "text/plain": [
       "array([-2.53759593e+02,  1.78819468e+05,  7.96039999e+05, -3.94028944e+03,\n",
       "        5.58837876e+05,  6.01683572e+04,  9.74099278e+03])"
      ]
     },
     "execution_count": 28,
     "metadata": {},
     "output_type": "execute_result"
    }
   ],
   "source": [
    "lr.coef_"
   ]
  },
  {
   "cell_type": "code",
   "execution_count": 29,
   "id": "275639a5",
   "metadata": {},
   "outputs": [
    {
     "data": {
      "text/plain": [
       "-19903540.079455864"
      ]
     },
     "execution_count": 29,
     "metadata": {},
     "output_type": "execute_result"
    }
   ],
   "source": [
    "lr.intercept_"
   ]
  },
  {
   "cell_type": "markdown",
   "id": "421b2497",
   "metadata": {},
   "source": [
    "# 실제 2022년 1~2월 데이터 회귀식에 대입해보기"
   ]
  },
  {
   "cell_type": "code",
   "execution_count": 30,
   "id": "25995b5d",
   "metadata": {},
   "outputs": [
    {
     "data": {
      "text/html": [
       "<div>\n",
       "<style scoped>\n",
       "    .dataframe tbody tr th:only-of-type {\n",
       "        vertical-align: middle;\n",
       "    }\n",
       "\n",
       "    .dataframe tbody tr th {\n",
       "        vertical-align: top;\n",
       "    }\n",
       "\n",
       "    .dataframe thead th {\n",
       "        text-align: right;\n",
       "    }\n",
       "</style>\n",
       "<table border=\"1\" class=\"dataframe\">\n",
       "  <thead>\n",
       "    <tr style=\"text-align: right;\">\n",
       "      <th></th>\n",
       "      <th>시점</th>\n",
       "      <th>수출액</th>\n",
       "      <th>수입액</th>\n",
       "      <th>환율</th>\n",
       "      <th>소비자 물가지수</th>\n",
       "      <th>기준금리(연%)</th>\n",
       "      <th>항공운임</th>\n",
       "      <th>가동률지수(원지수)</th>\n",
       "      <th>고용률</th>\n",
       "    </tr>\n",
       "  </thead>\n",
       "  <tbody>\n",
       "    <tr>\n",
       "      <th>0</th>\n",
       "      <td>2022.01</td>\n",
       "      <td>10816657</td>\n",
       "      <td>5739959</td>\n",
       "      <td>1205.50</td>\n",
       "      <td>104.69</td>\n",
       "      <td>1.25</td>\n",
       "      <td>2.79</td>\n",
       "      <td>122.9</td>\n",
       "      <td>59.6</td>\n",
       "    </tr>\n",
       "    <tr>\n",
       "      <th>1</th>\n",
       "      <td>2022.02</td>\n",
       "      <td>10381788</td>\n",
       "      <td>5493588</td>\n",
       "      <td>1197.83</td>\n",
       "      <td>105.30</td>\n",
       "      <td>1.25</td>\n",
       "      <td>2.85</td>\n",
       "      <td>122.6</td>\n",
       "      <td>60.6</td>\n",
       "    </tr>\n",
       "  </tbody>\n",
       "</table>\n",
       "</div>"
      ],
      "text/plain": [
       "        시점       수출액      수입액       환율  소비자 물가지수  기준금리(연%)  항공운임  가동률지수(원지수)  \\\n",
       "0  2022.01  10816657  5739959  1205.50    104.69      1.25  2.79       122.9   \n",
       "1  2022.02  10381788  5493588  1197.83    105.30      1.25  2.85       122.6   \n",
       "\n",
       "    고용률  \n",
       "0  59.6  \n",
       "1  60.6  "
      ]
     },
     "execution_count": 30,
     "metadata": {},
     "output_type": "execute_result"
    }
   ],
   "source": [
    "# 환율 2022-2월 데이터는 우리은행 외환센터 2022년 2월 평균 매매기준율 데이터사용\n",
    "# 반도체 항공운임 2022-1~2월 데이터는 최근 2년 평균치 사용\n",
    "\n",
    "# 수출액 = -1.889e+04 * 환율 + 8.713e+05 * 소비자물가지수 + -7.532e+05 * 항공운임 + 3.995e+04 * 가동률지수(원지수) + -5.94e+07\n",
    "\n",
    "test_set = pd.read_csv('datasets/Test_반도체.csv')\n",
    "test_set"
   ]
  },
  {
   "cell_type": "markdown",
   "id": "22ff1ff2",
   "metadata": {},
   "source": [
    "**2022년 1월**"
   ]
  },
  {
   "cell_type": "code",
   "execution_count": 34,
   "id": "e681176a",
   "metadata": {},
   "outputs": [
    {
     "name": "stdout",
     "output_type": "stream",
     "text": [
      "예측 2022년 1월 수출액: 5643619\n",
      "실제 2022년 1월 수출액: 5739959\n"
     ]
    }
   ],
   "source": [
    "income_2022_01 = 1.672e+05 * test_set.iloc[0,4] + 7.697e+05 * test_set.iloc[0,5] + 5.568e+05 * test_set.iloc[0,6] + 1.126e+04 * test_set.iloc[0,7] - 1.576e+07\n",
    "\n",
    "print('예측 2022년 1월 수출액:', int(income_2022_01))\n",
    "print('실제 2022년 1월 수출액:', test_set.iloc[0,2])"
   ]
  },
  {
   "cell_type": "markdown",
   "id": "36cd3483",
   "metadata": {},
   "source": [
    "**2022년 2월**"
   ]
  },
  {
   "cell_type": "code",
   "execution_count": 35,
   "id": "e7f58426",
   "metadata": {},
   "outputs": [
    {
     "name": "stdout",
     "output_type": "stream",
     "text": [
      "예측 2022년 2월 수출액: 5775641\n",
      "실제 2022년 2월 수출액: 5493588\n"
     ]
    }
   ],
   "source": [
    "income_2022_02 = 1.672e+05 * test_set.iloc[1,4] + 7.697e+05 * test_set.iloc[1,5] + 5.568e+05 * test_set.iloc[1,6] + 1.126e+04 * test_set.iloc[1,7] - 1.576e+07\n",
    "\n",
    "print('예측 2022년 2월 수출액:', int(income_2022_02))\n",
    "print('실제 2022년 2월 수출액:', test_set.iloc[1,2])"
   ]
  }
 ],
 "metadata": {
  "kernelspec": {
   "display_name": "Python 3 (ipykernel)",
   "language": "python",
   "name": "python3"
  },
  "language_info": {
   "codemirror_mode": {
    "name": "ipython",
    "version": 3
   },
   "file_extension": ".py",
   "mimetype": "text/x-python",
   "name": "python",
   "nbconvert_exporter": "python",
   "pygments_lexer": "ipython3",
   "version": "3.9.7"
  }
 },
 "nbformat": 4,
 "nbformat_minor": 5
}
